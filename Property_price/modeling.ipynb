{
 "cells": [
  {
   "cell_type": "code",
   "execution_count": 1,
   "metadata": {
    "collapsed": true
   },
   "outputs": [],
   "source": [
    "import requests\n",
    "\n",
    "def send_line_notification(message):\n",
    "    line_token = \"9jBlZvpTEg7fQSKaevfKIGU1EQCAxl0SujL7i1pywuQ\"\n",
    "    endpoint = 'https://notify-api.line.me/api/notify'\n",
    "    message = \"\\n{}\".format(message)\n",
    "    payload = {'message': message}\n",
    "    headers = {'Authorization': 'Bearer {}'.format(line_token)}\n",
    "    requests.post(endpoint, data=payload, headers=headers)"
   ]
  },
  {
   "cell_type": "code",
   "execution_count": 33,
   "metadata": {},
   "outputs": [],
   "source": [
    "%matplotlib inline\n",
    "import numpy as np\n",
    "import pandas as pd\n",
    "import sklearn\n",
    "import os\n",
    "import os.path\n",
    "\n",
    "import matplotlib.pyplot as plt\n",
    "import csv\n",
    "import seaborn as sns\n",
    "from sklearn.preprocessing import StandardScaler\n",
    "\n",
    "from sklearn.linear_model import LogisticRegression\n",
    "from sklearn.ensemble import RandomForestClassifier\n",
    "from sklearn import linear_model\n",
    "import pandas as pd\n",
    "from sklearn.pipeline import Pipeline\n",
    "from lightgbm import LGBMRegressor\n",
    "\n",
    "#classifier\n",
    "clf1 = linear_model.LinearRegression()\n",
    "clf2 = LogisticRegression(random_state=0)\n",
    "clf3 = RandomForestClassifier(random_state=0)\n",
    "clf4 = LGBMRegressor()\n",
    "\n",
    "#パイプライン処理\n",
    "pipe1 = Pipeline([['sc', StandardScaler()], ['clf1', clf1]])\n",
    "pipe2 = Pipeline([['sc', StandardScaler()], ['clf2', clf2]])\n"
   ]
  },
  {
   "cell_type": "code",
   "execution_count": 34,
   "metadata": {
    "scrolled": true
   },
   "outputs": [
    {
     "name": "stderr",
     "output_type": "stream",
     "text": [
      "/Users/takato/.pyenv/versions/anaconda3-5.0.0/lib/python3.6/site-packages/IPython/core/interactiveshell.py:2698: DtypeWarning: Columns (17,18,19,20,21,22,23,32,33,34,36,42,44) have mixed types. Specify dtype option on import or set low_memory=False.\n",
      "  interactivity=interactivity, compiler=compiler, result=result)\n"
     ]
    }
   ],
   "source": [
    "df_train = pd.read_csv(os.path.join(os.getcwd(),'train_set.csv'), delim_whitespace=False)\n",
    "df_test = pd.read_csv(os.path.join(os.getcwd(),'test_set.csv'), delim_whitespace=False)\n"
   ]
  },
  {
   "cell_type": "code",
   "execution_count": 35,
   "metadata": {},
   "outputs": [
    {
     "data": {
      "text/plain": [
       "Id                        0\n",
       "BATHRM                    0\n",
       "HF_BATHRM                 0\n",
       "HEAT                      0\n",
       "AC                        0\n",
       "NUM_UNITS             20053\n",
       "ROOMS                     0\n",
       "BEDRM                     0\n",
       "AYB                      56\n",
       "YR_RMDL               20418\n",
       "EYB                       0\n",
       "STORIES               20071\n",
       "SALEDATE                  1\n",
       "QUALIFIED                 0\n",
       "SALE_NUM                  0\n",
       "GBA                       0\n",
       "BLDG_NUM                  0\n",
       "STYLE                 20053\n",
       "STRUCT                20053\n",
       "GRADE                 20053\n",
       "CNDTN                 20053\n",
       "EXTWALL               20053\n",
       "ROOF                  20053\n",
       "INTWALL               20053\n",
       "KITCHENS              20053\n",
       "FIREPLACES                0\n",
       "USECODE                   0\n",
       "LANDAREA                  0\n",
       "GIS_LAST_MOD_DTTM         0\n",
       "SOURCE                    0\n",
       "CMPLX_NUM             29055\n",
       "LIVING_GBA            29055\n",
       "FULLADDRESS           20216\n",
       "CITY                  20214\n",
       "STATE                 20214\n",
       "ZIPCODE                   0\n",
       "NATIONALGRID          20214\n",
       "LATITUDE                  0\n",
       "LONGITUDE                 0\n",
       "ASSESSMENT_NBHD           0\n",
       "ASSESSMENT_SUBNBHD    10123\n",
       "CENSUS_TRACT              0\n",
       "CENSUS_BLOCK          20214\n",
       "WARD                      0\n",
       "SQUARE                    0\n",
       "X                        47\n",
       "Y                        47\n",
       "QUADRANT                 47\n",
       "PRICE                     0\n",
       "IsGREAT                   0\n",
       "IsNew                     0\n",
       "IsRMDL                    0\n",
       "IsLARGE                   0\n",
       "dtype: int64"
      ]
     },
     "execution_count": 35,
     "metadata": {},
     "output_type": "execute_result"
    }
   ],
   "source": [
    "df_train[\"GBA\"].fillna(1725.786303972366,inplace=True)\n",
    "df_train[\"GRADE\"].fillna(df_train[\"GRADE\"].mode(),inplace=True)\n",
    "df_train[\"CNDTN\"].fillna(df_train[\"CNDTN\"].mode(),inplace=True)\n",
    "\n",
    "df_train['IsGREAT'] = df_train['GRADE'].apply(lambda x: 1 if x ==(\"Excellent\"or\"GRADE_Exceptional-A\"or\"GRADE_Exceptional-B\"or\"GRADE_Exceptional-C\"or\"GRADE_Exceptional-D\") else 0)\n",
    "df_train['IsNew'] = df_train['AYB'].apply(lambda x: 1 if x > 2000 else 0)\n",
    "df_train['IsRMDL'] = df_train['YR_RMDL'].apply(lambda x: 1 if x > 2000 else 0)\n",
    "df_train[\"IsLARGE\"] = df_train[\"LIVING_GBA\"].apply(lambda x: 1 if x > 2000 else 0)\n",
    "\n",
    "df_train.shape\n",
    "df_train.isnull().sum()\n"
   ]
  },
  {
   "cell_type": "code",
   "execution_count": 36,
   "metadata": {
    "collapsed": true
   },
   "outputs": [],
   "source": [
    "var = [\"GRADE\",\"CNDTN\",\"GBA\",\"IsNew\",\"IsRMDL\",\"IsLARGE\"]\n",
    "\n",
    "X = df_train[var]\n",
    "X=pd.get_dummies(X)"
   ]
  },
  {
   "cell_type": "code",
   "execution_count": 37,
   "metadata": {
    "collapsed": true
   },
   "outputs": [],
   "source": [
    "y = np.log(df_train[\"PRICE\"])"
   ]
  },
  {
   "cell_type": "code",
   "execution_count": null,
   "metadata": {},
   "outputs": [],
   "source": []
  },
  {
   "cell_type": "code",
   "execution_count": null,
   "metadata": {
    "collapsed": true
   },
   "outputs": [],
   "source": []
  },
  {
   "cell_type": "code",
   "execution_count": null,
   "metadata": {
    "scrolled": false
   },
   "outputs": [],
   "source": []
  },
  {
   "cell_type": "code",
   "execution_count": 39,
   "metadata": {},
   "outputs": [
    {
     "name": "stderr",
     "output_type": "stream",
     "text": [
      "/Users/takato/.pyenv/versions/anaconda3-5.0.0/lib/python3.6/site-packages/sklearn/preprocessing/data.py:625: DataConversionWarning: Data with input dtype uint8, int64, float64 were all converted to float64 by StandardScaler.\n",
      "  return self.partial_fit(X, y)\n",
      "/Users/takato/.pyenv/versions/anaconda3-5.0.0/lib/python3.6/site-packages/sklearn/base.py:465: DataConversionWarning: Data with input dtype uint8, int64, float64 were all converted to float64 by StandardScaler.\n",
      "  return self.fit(X, y, **fit_params).transform(X)\n"
     ]
    },
    {
     "data": {
      "text/plain": [
       "Pipeline(memory=None,\n",
       "     steps=[('sc', StandardScaler(copy=True, with_mean=True, with_std=True)), ['clf1', LinearRegression(copy_X=True, fit_intercept=True, n_jobs=None,\n",
       "         normalize=False)]])"
      ]
     },
     "execution_count": 39,
     "metadata": {},
     "output_type": "execute_result"
    }
   ],
   "source": [
    "model = pipe1\n",
    "clf = model\n",
    "clf.fit(X,y)\n",
    "\n"
   ]
  },
  {
   "cell_type": "code",
   "execution_count": 52,
   "metadata": {
    "scrolled": false
   },
   "outputs": [
    {
     "name": "stderr",
     "output_type": "stream",
     "text": [
      "/Users/takato/.pyenv/versions/anaconda3-5.0.0/lib/python3.6/site-packages/sklearn/pipeline.py:331: DataConversionWarning: Data with input dtype uint8, int64, float64 were all converted to float64 by StandardScaler.\n",
      "  Xt = transform.transform(Xt)\n"
     ]
    },
    {
     "data": {
      "text/plain": [
       "(0, 20)"
      ]
     },
     "execution_count": 52,
     "metadata": {},
     "output_type": "execute_result"
    },
    {
     "data": {
      "image/png": "[encoded data removed]",
      "text/plain": [
       "<matplotlib.figure.Figure at 0x1283ae5f8>"
      ]
     },
     "metadata": {},
     "output_type": "display_data"
    }
   ],
   "source": [
    "plt.figure(figsize=(10,10))\n",
    "plt.scatter(y,clf.predict(X))\n",
    "plt.xlim(0,20)\n",
    "plt.ylim(0,20)\n"
   ]
  },
  {
   "cell_type": "code",
   "execution_count": 55,
   "metadata": {
    "collapsed": true
   },
   "outputs": [],
   "source": [
    "df_test[\"GBA\"].fillna(1725.786303972366,inplace=True)\n",
    "df_test[\"GRADE\"].replace({'No Data': pd.np.nan},inplace=True)\n",
    "df_test[\"CNDTN\"].replace({'Default': pd.np.nan},inplace=True)\n",
    "df_test['IsNew'] = df_test['AYB'].apply(lambda x: 1 if x > 2000 else 0)\n",
    "df_test['IsRMDL'] = df_test['YR_RMDL'].apply(lambda x: 1 if x > 2000 else 0)\n",
    "df_test[\"IsLARGE\"] = df_test[\"LIVING_GBA\"].apply(lambda x: 1 if x > 2000 else 0)\n",
    "\n",
    "df_train['IsGREAT'] = df_train['GRADE'].apply(lambda x: 1 if x ==(\"Excellent\"or\"GRADE_Exceptional-A\"or\"GRADE_Exceptional-B\"or\"GRADE_Exceptional-C\"or\"GRADE_Exceptional-D\") else 0)\n",
    "\n",
    "var = [\"GRADE\",\"CNDTN\",\"GBA\",\"IsNew\",\"IsRMDL\",\"IsLARGE\"]\n"
   ]
  },
  {
   "cell_type": "code",
   "execution_count": 56,
   "metadata": {},
   "outputs": [
    {
     "data": {
      "text/plain": [
       "GBA                    0\n",
       "IsNew                  0\n",
       "IsRMDL                 0\n",
       "IsLARGE                0\n",
       "GRADE_Above Average    0\n",
       "GRADE_Average          0\n",
       "GRADE_Excellent        0\n",
       "GRADE_Exceptional-A    0\n",
       "GRADE_Exceptional-B    0\n",
       "GRADE_Exceptional-C    0\n",
       "GRADE_Exceptional-D    0\n",
       "GRADE_Fair Quality     0\n",
       "GRADE_Good Quality     0\n",
       "GRADE_Low Quality      0\n",
       "GRADE_Superior         0\n",
       "GRADE_Very Good        0\n",
       "CNDTN_Average          0\n",
       "CNDTN_Excellent        0\n",
       "CNDTN_Fair             0\n",
       "CNDTN_Good             0\n",
       "CNDTN_Poor             0\n",
       "CNDTN_Very Good        0\n",
       "dtype: int64"
      ]
     },
     "execution_count": 56,
     "metadata": {},
     "output_type": "execute_result"
    }
   ],
   "source": [
    "X = df_test[var]\n",
    "X=pd.get_dummies(X)\n",
    "X.isnull().sum()"
   ]
  },
  {
   "cell_type": "code",
   "execution_count": 57,
   "metadata": {},
   "outputs": [
    {
     "name": "stderr",
     "output_type": "stream",
     "text": [
      "/Users/takato/.pyenv/versions/anaconda3-5.0.0/lib/python3.6/site-packages/sklearn/pipeline.py:331: DataConversionWarning: Data with input dtype uint8, int64, float64 were all converted to float64 by StandardScaler.\n",
      "  Xt = transform.transform(Xt)\n"
     ]
    }
   ],
   "source": [
    "y_pred = clf.predict(X)"
   ]
  },
  {
   "cell_type": "code",
   "execution_count": 58,
   "metadata": {},
   "outputs": [],
   "source": [
    "y_pred = np.exp(y_pred)"
   ]
  },
  {
   "cell_type": "code",
   "execution_count": 59,
   "metadata": {
    "collapsed": true
   },
   "outputs": [],
   "source": [
    "pred_df = pd.DataFrame(y_pred, index=df_test.Id, columns=[\"PRICE\"])\n",
    "pred_df.to_csv('./output.csv', header=True, index_label='Id')"
   ]
  },
  {
   "cell_type": "code",
   "execution_count": 60,
   "metadata": {},
   "outputs": [
    {
     "data": {
      "text/plain": [
       "(49108,)"
      ]
     },
     "execution_count": 60,
     "metadata": {},
     "output_type": "execute_result"
    }
   ],
   "source": [
    "y_pred.shape"
   ]
  },
  {
   "cell_type": "code",
   "execution_count": 61,
   "metadata": {
    "collapsed": true
   },
   "outputs": [],
   "source": [
    "send_line_notification(\"FINISH\")"
   ]
  },
  {
   "cell_type": "code",
   "execution_count": null,
   "metadata": {
    "collapsed": true
   },
   "outputs": [],
   "source": []
  },
  {
   "cell_type": "code",
   "execution_count": null,
   "metadata": {
    "collapsed": true
   },
   "outputs": [],
   "source": []
  },
  {
   "cell_type": "code",
   "execution_count": null,
   "metadata": {
    "collapsed": true
   },
   "outputs": [],
   "source": []
  },
  {
   "cell_type": "code",
   "execution_count": null,
   "metadata": {
    "collapsed": true
   },
   "outputs": [],
   "source": []
  },
  {
   "cell_type": "code",
   "execution_count": null,
   "metadata": {
    "collapsed": true
   },
   "outputs": [],
   "source": []
  }
 ],
 "metadata": {
  "kernelspec": {
   "display_name": "Python 3",
   "language": "python",
   "name": "python3"
  },
  "language_info": {
   "codemirror_mode": {
    "name": "ipython",
    "version": 3
   },
   "file_extension": ".py",
   "mimetype": "text/x-python",
   "name": "python",
   "nbconvert_exporter": "python",
   "pygments_lexer": "ipython3",
   "version": "3.6.2"
  }
 },
 "nbformat": 4,
 "nbformat_minor": 2
}
