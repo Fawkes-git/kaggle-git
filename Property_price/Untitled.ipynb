{
 "cells": [
  {
   "cell_type": "code",
   "execution_count": 1,
   "metadata": {},
   "outputs": [
    {
     "name": "stderr",
     "output_type": "stream",
     "text": [
      "/Users/takato/.pyenv/versions/anaconda3-5.0.0/lib/python3.6/site-packages/h5py/__init__.py:34: FutureWarning: Conversion of the second argument of issubdtype from `float` to `np.floating` is deprecated. In future, it will be treated as `np.float64 == np.dtype(float).type`.\n",
      "  from ._conv import register_converters as _register_converters\n",
      "Using TensorFlow backend.\n",
      "/Users/takato/.pyenv/versions/anaconda3-5.0.0/lib/python3.6/site-packages/lightgbm/__init__.py:46: UserWarning: Starting from version 2.2.1, the library file in distribution wheels for macOS is built by the Apple Clang (Xcode_8.3.1) compiler.\n",
      "This means that in case of installing LightGBM from PyPI via the ``pip install lightgbm`` command, you don't need to install the gcc compiler anymore.\n",
      "Instead of that, you need to install the OpenMP library, which is required for running LightGBM on the system with the Apple Clang compiler.\n",
      "You can install the OpenMP library by the following command: ``brew install libomp``.\n",
      "  \"You can install the OpenMP library by the following command: ``brew install libomp``.\", UserWarning)\n",
      "[I 2019-02-14 06:21:21,786] Finished a trial resulted in value: 0.02631578947368418. Current best value is 0.02631578947368418 with parameters: {'alpha': 0.016406727898191004}.\n",
      "[I 2019-02-14 06:21:21,983] Finished a trial resulted in value: 0.0. Current best value is 0.0 with parameters: {'alpha': 0.001281103809041007}.\n",
      "[I 2019-02-14 06:21:22,103] Finished a trial resulted in value: 0.21052631578947367. Current best value is 0.0 with parameters: {'alpha': 0.001281103809041007}.\n",
      "[I 2019-02-14 06:21:22,218] Finished a trial resulted in value: 0.10526315789473684. Current best value is 0.0 with parameters: {'alpha': 0.001281103809041007}.\n",
      "[I 2019-02-14 06:21:22,330] Finished a trial resulted in value: 0.39473684210526316. Current best value is 0.0 with parameters: {'alpha': 0.001281103809041007}.\n",
      "[I 2019-02-14 06:21:22,345] Setting trial status as TrialState.PRUNED. \n",
      "[I 2019-02-14 06:21:22,720] Finished a trial resulted in value: 0.13157894736842102. Current best value is 0.0 with parameters: {'alpha': 0.001281103809041007}.\n",
      "[I 2019-02-14 06:21:23,077] Finished a trial resulted in value: 0.23684210526315785. Current best value is 0.0 with parameters: {'alpha': 0.001281103809041007}.\n",
      "[I 2019-02-14 06:21:23,091] Setting trial status as TrialState.PRUNED. \n",
      "[I 2019-02-14 06:21:23,540] Finished a trial resulted in value: 0.07894736842105265. Current best value is 0.0 with parameters: {'alpha': 0.001281103809041007}.\n",
      "[I 2019-02-14 06:21:23,621] Setting trial status as TrialState.PRUNED. \n",
      "[I 2019-02-14 06:21:23,656] Setting trial status as TrialState.PRUNED. \n",
      "[I 2019-02-14 06:21:23,676] Setting trial status as TrialState.PRUNED. \n",
      "[I 2019-02-14 06:21:23,697] Setting trial status as TrialState.PRUNED. \n",
      "[I 2019-02-14 06:21:23,722] Setting trial status as TrialState.PRUNED. \n",
      "[I 2019-02-14 06:21:23,747] Setting trial status as TrialState.PRUNED. \n",
      "[I 2019-02-14 06:21:23,770] Setting trial status as TrialState.PRUNED. \n",
      "[I 2019-02-14 06:21:23,791] Setting trial status as TrialState.PRUNED. \n",
      "[I 2019-02-14 06:21:23,813] Setting trial status as TrialState.PRUNED. \n",
      "[I 2019-02-14 06:21:24,290] Finished a trial resulted in value: 0.23684210526315785. Current best value is 0.0 with parameters: {'alpha': 0.001281103809041007}.\n"
     ]
    }
   ],
   "source": [
    "import sklearn.datasets\n",
    "import sklearn.linear_model\n",
    "import sklearn.model_selection\n",
    "\n",
    "import optuna\n",
    "\n",
    "def objective(trial):\n",
    "    iris = sklearn.datasets.load_iris()\n",
    "    classes = list(set(iris.target))\n",
    "    train_x, test_x, train_y, test_y = \\\n",
    "        sklearn.model_selection.train_test_split(iris.data, iris.target, test_size=0.25, random_state=0)\n",
    "\n",
    "    alpha = trial.suggest_loguniform('alpha', 1e-5, 1e-1)\n",
    "    clf = sklearn.linear_model.SGDClassifier(alpha=alpha)\n",
    "\n",
    "    for step in range(100):\n",
    "        clf.partial_fit(train_x, train_y, classes=classes)\n",
    "\n",
    "        # Report intermediate objective value.\n",
    "        intermediate_value = 1.0 - clf.score(test_x, test_y)\n",
    "        trial.report(intermediate_value, step)\n",
    "\n",
    "        # Handle pruning based on the intermediate value.\n",
    "        if trial.should_prune(step):\n",
    "            raise optuna.structs.TrialPruned()\n",
    "\n",
    "    return 1.0 - clf.score(test_x, test_y)\n",
    "\n",
    "# Set up the median stopping rule as the pruning condition.\n",
    "study = optuna.create_study(pruner=optuna.pruners.MedianPruner())\n",
    "study.optimize(objective, n_trials=20)"
   ]
  },
  {
   "cell_type": "code",
   "execution_count": null,
   "metadata": {
    "collapsed": true
   },
   "outputs": [],
   "source": []
  }
 ],
 "metadata": {
  "kernelspec": {
   "display_name": "Python 3",
   "language": "python",
   "name": "python3"
  },
  "language_info": {
   "codemirror_mode": {
    "name": "ipython",
    "version": 3
   },
   "file_extension": ".py",
   "mimetype": "text/x-python",
   "name": "python",
   "nbconvert_exporter": "python",
   "pygments_lexer": "ipython3",
   "version": "3.6.2"
  }
 },
 "nbformat": 4,
 "nbformat_minor": 2
}
