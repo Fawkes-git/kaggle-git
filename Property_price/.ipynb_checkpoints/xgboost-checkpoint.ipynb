{
 "cells": [
  {
   "cell_type": "code",
   "execution_count": 1,
   "metadata": {
    "collapsed": true
   },
   "outputs": [],
   "source": [
    "import requests\n",
    "\n",
    "def send_line_notification(message):\n",
    "    line_token = \"9jBlZvpTEg7fQSKaevfKIGU1EQCAxl0SujL7i1pywuQ\"\n",
    "    endpoint = 'https://notify-api.line.me/api/notify'\n",
    "    message = \"\\n{}\".format(message)\n",
    "    payload = {'message': message}\n",
    "    headers = {'Authorization': 'Bearer {}'.format(line_token)}\n",
    "    requests.post(endpoint, data=payload, headers=headers)"
   ]
  },
  {
   "cell_type": "code",
   "execution_count": 2,
   "metadata": {},
   "outputs": [
    {
     "name": "stderr",
     "output_type": "stream",
     "text": [
      "/Users/takato/.pyenv/versions/anaconda3-5.0.0/lib/python3.6/site-packages/h5py/__init__.py:34: FutureWarning: Conversion of the second argument of issubdtype from `float` to `np.floating` is deprecated. In future, it will be treated as `np.float64 == np.dtype(float).type`.\n",
      "  from ._conv import register_converters as _register_converters\n",
      "Using TensorFlow backend.\n",
      "/Users/takato/.pyenv/versions/anaconda3-5.0.0/lib/python3.6/site-packages/lightgbm/__init__.py:46: UserWarning: Starting from version 2.2.1, the library file in distribution wheels for macOS is built by the Apple Clang (Xcode_8.3.1) compiler.\n",
      "This means that in case of installing LightGBM from PyPI via the ``pip install lightgbm`` command, you don't need to install the gcc compiler anymore.\n",
      "Instead of that, you need to install the OpenMP library, which is required for running LightGBM on the system with the Apple Clang compiler.\n",
      "You can install the OpenMP library by the following command: ``brew install libomp``.\n",
      "  \"You can install the OpenMP library by the following command: ``brew install libomp``.\", UserWarning)\n"
     ]
    }
   ],
   "source": [
    "import numpy as np\n",
    "from scipy.stats import stats, norm, skew\n",
    "import seaborn as sns\n",
    "import matplotlib.pyplot as plt\n",
    "import matplotlib.image as mpimg\n",
    "from sklearn import preprocessing\n",
    "from sklearn.metrics import confusion_matrix, mean_squared_error\n",
    "from sklearn.model_selection import train_test_split\n",
    "from sklearn.linear_model import LinearRegression\n",
    "from sklearn.model_selection import KFold\n",
    "from sklearn.preprocessing import StandardScaler, MinMaxScaler, LabelEncoder\n",
    "from sklearn.model_selection import KFold, cross_val_score, train_test_split\n",
    "from keras.models import Sequential\n",
    "from keras.callbacks import ModelCheckpoint\n",
    "from keras.layers import Dense, Dropout, Flatten, Conv2D, MaxPool2D\n",
    "from keras.utils.np_utils import to_categorical\n",
    "from keras.wrappers.scikit_learn import KerasRegressor\n",
    "from scipy.special import boxcox1p\n",
    "import lightgbm as lgb\n",
    "import xgboost as xgb\n",
    "import pandas as pd\n",
    "\n",
    "%matplotlib inline\n",
    "np.random.seed(2)"
   ]
  },
  {
   "cell_type": "code",
   "execution_count": 3,
   "metadata": {},
   "outputs": [
    {
     "name": "stderr",
     "output_type": "stream",
     "text": [
      "/Users/takato/.pyenv/versions/anaconda3-5.0.0/lib/python3.6/site-packages/IPython/core/interactiveshell.py:2698: DtypeWarning: Columns (17,18,19,20,21,22,23,32,33,34,36,42,44) have mixed types. Specify dtype option on import or set low_memory=False.\n",
      "  interactivity=interactivity, compiler=compiler, result=result)\n"
     ]
    },
    {
     "name": "stdout",
     "output_type": "stream",
     "text": [
      "(49108, 49)\n",
      "(49108, 48)\n"
     ]
    }
   ],
   "source": [
    "# Load the data\n",
    "train = pd.read_csv(\"./train_set.csv\")\n",
    "test = pd.read_csv(\"./test_set.csv\")\n",
    "\n",
    "print(train.shape)\n",
    "print(test.shape)"
   ]
  },
  {
   "cell_type": "code",
   "execution_count": 4,
   "metadata": {},
   "outputs": [
    {
     "data": {
      "text/plain": [
       "Index(['BATHRM', 'HF_BATHRM', 'HEAT', 'AC', 'NUM_UNITS', 'ROOMS', 'BEDRM',\n",
       "       'AYB', 'YR_RMDL', 'EYB', 'STORIES', 'SALEDATE', 'QUALIFIED', 'SALE_NUM',\n",
       "       'GBA', 'BLDG_NUM', 'STYLE', 'STRUCT', 'GRADE', 'CNDTN', 'EXTWALL',\n",
       "       'ROOF', 'INTWALL', 'KITCHENS', 'FIREPLACES', 'USECODE', 'LANDAREA',\n",
       "       'GIS_LAST_MOD_DTTM', 'SOURCE', 'CMPLX_NUM', 'LIVING_GBA', 'FULLADDRESS',\n",
       "       'CITY', 'STATE', 'ZIPCODE', 'NATIONALGRID', 'LATITUDE', 'LONGITUDE',\n",
       "       'ASSESSMENT_NBHD', 'ASSESSMENT_SUBNBHD', 'CENSUS_TRACT', 'CENSUS_BLOCK',\n",
       "       'WARD', 'X', 'Y', 'QUADRANT', 'PRICE'],\n",
       "      dtype='object')"
      ]
     },
     "execution_count": 4,
     "metadata": {},
     "output_type": "execute_result"
    }
   ],
   "source": [
    "train = train.drop('Id', axis=1)\n",
    "train = train.drop('SQUARE', axis=1)\n",
    "test = test.drop('SQUARE', axis=1)\n",
    "train.columns"
   ]
  },
  {
   "cell_type": "code",
   "execution_count": 5,
   "metadata": {},
   "outputs": [
    {
     "data": {
      "text/plain": [
       "BATHRM                  int64\n",
       "HF_BATHRM               int64\n",
       "HEAT                   object\n",
       "AC                     object\n",
       "NUM_UNITS             float64\n",
       "ROOMS                   int64\n",
       "BEDRM                   int64\n",
       "AYB                   float64\n",
       "YR_RMDL               float64\n",
       "EYB                     int64\n",
       "STORIES               float64\n",
       "SALEDATE               object\n",
       "QUALIFIED              object\n",
       "SALE_NUM                int64\n",
       "GBA                   float64\n",
       "BLDG_NUM                int64\n",
       "STYLE                  object\n",
       "STRUCT                 object\n",
       "GRADE                  object\n",
       "CNDTN                  object\n",
       "EXTWALL                object\n",
       "ROOF                   object\n",
       "INTWALL                object\n",
       "KITCHENS              float64\n",
       "FIREPLACES              int64\n",
       "USECODE                 int64\n",
       "LANDAREA                int64\n",
       "GIS_LAST_MOD_DTTM      object\n",
       "SOURCE                 object\n",
       "CMPLX_NUM             float64\n",
       "LIVING_GBA            float64\n",
       "FULLADDRESS            object\n",
       "CITY                   object\n",
       "STATE                  object\n",
       "ZIPCODE               float64\n",
       "NATIONALGRID           object\n",
       "LATITUDE              float64\n",
       "LONGITUDE             float64\n",
       "ASSESSMENT_NBHD        object\n",
       "ASSESSMENT_SUBNBHD     object\n",
       "CENSUS_TRACT          float64\n",
       "CENSUS_BLOCK           object\n",
       "WARD                   object\n",
       "X                     float64\n",
       "Y                     float64\n",
       "QUADRANT               object\n",
       "PRICE                 float64\n",
       "dtype: object"
      ]
     },
     "execution_count": 5,
     "metadata": {},
     "output_type": "execute_result"
    }
   ],
   "source": [
    "train.dtypes"
   ]
  },
  {
   "cell_type": "code",
   "execution_count": 6,
   "metadata": {
    "scrolled": true
   },
   "outputs": [
    {
     "name": "stderr",
     "output_type": "stream",
     "text": [
      "/Users/takato/.pyenv/versions/anaconda3-5.0.0/lib/python3.6/site-packages/pandas/core/indexing.py:601: SettingWithCopyWarning: \n",
      "A value is trying to be set on a copy of a slice from a DataFrame.\n",
      "Try using .loc[row_indexer,col_indexer] = value instead\n",
      "\n",
      "See the caveats in the documentation: http://pandas.pydata.org/pandas-docs/stable/indexing.html#indexing-view-versus-copy\n",
      "  self.obj[item_labels[indexer[info_axis]]] = value\n"
     ]
    },
    {
     "name": "stdout",
     "output_type": "stream",
     "text": [
      "Fixes remaining on train set\n",
      " Series([], dtype: int64)\n",
      "Fixes remaining on test set\n",
      " Series([], dtype: int64)\n"
     ]
    }
   ],
   "source": [
    "cols_with_none_as_nan = [\n",
    "    \"HEAT\", \n",
    "    \"AC\",\n",
    "    \"SALEDATE\",\n",
    "    \"STYLE\",\n",
    "    \"STRUCT\",\n",
    "    \"GRADE\",\n",
    "    \"CNDTN\",\n",
    "    \"EXTWALL\",\n",
    "    \"ROOF\",\n",
    "    \"INTWALL\",\n",
    "    \"FULLADDRESS\",\n",
    "    \"CITY\",\n",
    "    \"STATE\",\n",
    "    \"NATIONALGRID\",\n",
    "    \"ASSESSMENT_SUBNBHD\",\n",
    "    \"CENSUS_BLOCK\",\n",
    "    \"QUADRANT\"\n",
    "    ]\n",
    "\n",
    "\n",
    "# fill missing text fields with a default string\n",
    "object_columns = train.select_dtypes(include=[object])\n",
    "test_object_columns = test.select_dtypes(include=[object])\n",
    "\n",
    "# for these colunms the string 'None' will be inserted in place of nan\n",
    "for col in cols_with_none_as_nan:\n",
    "    object_columns.loc[:, col] = object_columns.loc[:, col].fillna('None')\n",
    "    test_object_columns.loc[:, col] = test_object_columns.loc[:, col].fillna('None')\n",
    "\n",
    "remaining_fix = object_columns.isnull().sum()\n",
    "print('Fixes remaining on train set\\n', remaining_fix[remaining_fix>0])\n",
    "\n",
    "remaining_fix = test_object_columns.isnull().sum()\n",
    "print('Fixes remaining on test set\\n',remaining_fix[remaining_fix>0])"
   ]
  },
  {
   "cell_type": "code",
   "execution_count": 7,
   "metadata": {},
   "outputs": [
    {
     "name": "stdout",
     "output_type": "stream",
     "text": [
      "Fixes remaining on train set\n",
      " NUM_UNITS     20053\n",
      "AYB              56\n",
      "YR_RMDL       20418\n",
      "STORIES       20071\n",
      "GBA           20053\n",
      "KITCHENS      20053\n",
      "CMPLX_NUM     29055\n",
      "LIVING_GBA    29055\n",
      "X                47\n",
      "Y                47\n",
      "dtype: int64\n",
      "Fixes remaining on test set\n",
      " NUM_UNITS     20263\n",
      "AYB              56\n",
      "YR_RMDL       20124\n",
      "STORIES       20278\n",
      "GBA           20263\n",
      "KITCHENS      20264\n",
      "CMPLX_NUM     28845\n",
      "LIVING_GBA    28845\n",
      "X                54\n",
      "Y                54\n",
      "dtype: int64\n"
     ]
    }
   ],
   "source": [
    "numeric_columns = train.select_dtypes(include=[int, float])\n",
    "\n",
    "remaining_fix = numeric_columns.isnull().sum()\n",
    "print('Fixes remaining on train set\\n',remaining_fix[remaining_fix>0])\n",
    "\n",
    "test_numeric_columns = test.select_dtypes(include=[int, float])\n",
    "\n",
    "remaining_fix = test_numeric_columns.isnull().sum()\n",
    "print('Fixes remaining on test set\\n',remaining_fix[remaining_fix>0])"
   ]
  },
  {
   "cell_type": "code",
   "execution_count": 8,
   "metadata": {},
   "outputs": [
    {
     "name": "stderr",
     "output_type": "stream",
     "text": [
      "/Users/takato/.pyenv/versions/anaconda3-5.0.0/lib/python3.6/site-packages/pandas/core/indexing.py:517: SettingWithCopyWarning: \n",
      "A value is trying to be set on a copy of a slice from a DataFrame.\n",
      "Try using .loc[row_indexer,col_indexer] = value instead\n",
      "\n",
      "See the caveats in the documentation: http://pandas.pydata.org/pandas-docs/stable/indexing.html#indexing-view-versus-copy\n",
      "  self.obj[item] = s\n"
     ]
    },
    {
     "name": "stdout",
     "output_type": "stream",
     "text": [
      "Fixes remaining on train set\n",
      " Series([], dtype: int64)\n",
      "Fixes remaining on test set\n",
      " Series([], dtype: int64)\n"
     ]
    }
   ],
   "source": [
    "cols_with_zero_as_nan = ['NUM_UNITS',\n",
    "                         'AYB', \n",
    "                         'YR_RMDL',\n",
    "                         'STORIES',\n",
    "                         'GBA',\n",
    "                         'CMPLX_NUM',\n",
    "                         'LIVING_GBA',\n",
    "                         'KITCHENS'\n",
    "                        ]\n",
    "cols_with_mean_as_nan = ['X','Y']\n",
    "\n",
    "# for these colunms the mean will be inserted in place of nan\n",
    "for col in cols_with_mean_as_nan:\n",
    "    numeric_columns.loc[:, col] = numeric_columns.loc[:, col].fillna(numeric_columns[col].mean())\n",
    "    test_numeric_columns.loc[:, col] = test_numeric_columns.loc[:, col].fillna(test_numeric_columns[col].mean())\n",
    "\n",
    "# for these colunms a zero will be inserted in place of nan\n",
    "for col in cols_with_zero_as_nan:\n",
    "    numeric_columns.loc[:, col] = numeric_columns.loc[:, col].fillna(0)\n",
    "    test_numeric_columns.loc[:, col] = test_numeric_columns.loc[:, col].fillna(0)\n",
    "\n",
    "\n",
    "remaining_fix = numeric_columns.isnull().sum()\n",
    "print('Fixes remaining on train set\\n',remaining_fix[remaining_fix>0])\n",
    "\n",
    "remaining_fix = test_numeric_columns.isnull().sum()\n",
    "print('Fixes remaining on test set\\n',remaining_fix[remaining_fix>0])"
   ]
  },
  {
   "cell_type": "code",
   "execution_count": null,
   "metadata": {},
   "outputs": [],
   "source": []
  },
  {
   "cell_type": "code",
   "execution_count": 9,
   "metadata": {},
   "outputs": [
    {
     "name": "stdout",
     "output_type": "stream",
     "text": [
      "There are 17 skewed numerical features to transform\n",
      "\n",
      "Skew > .75 in numerical features: \n",
      "\n",
      "                  Skew\n",
      "FIREPLACES  221.596365\n",
      "STORIES     178.135568\n",
      "BLDG_NUM     83.740245\n",
      "AYB          19.774995\n",
      "PRICE        18.377059\n",
      "ZIPCODE      16.634201\n",
      "LANDAREA     13.677086\n",
      "KITCHENS      4.464330\n",
      "USECODE       2.245318\n",
      "SALE_NUM      1.764593\n",
      "NUM_UNITS     1.631241\n",
      "LIVING_GBA    1.543186\n",
      "BATHRM        1.369842\n",
      "GBA           1.355860\n",
      "CMPLX_NUM     1.289017\n",
      "ROOMS         1.227033\n",
      "HF_BATHRM     0.990909\n"
     ]
    },
    {
     "name": "stderr",
     "output_type": "stream",
     "text": [
      "/Users/takato/.pyenv/versions/anaconda3-5.0.0/lib/python3.6/site-packages/ipykernel_launcher.py:13: SettingWithCopyWarning: \n",
      "A value is trying to be set on a copy of a slice from a DataFrame.\n",
      "Try using .loc[row_indexer,col_indexer] = value instead\n",
      "\n",
      "See the caveats in the documentation: http://pandas.pydata.org/pandas-docs/stable/indexing.html#indexing-view-versus-copy\n",
      "  del sys.path[0]\n"
     ]
    },
    {
     "name": "stdout",
     "output_type": "stream",
     "text": [
      "Fixed skewness\n",
      "There are 16 skewed numerical features to transform\n",
      "\n",
      "Skew > .75 in numerical features: \n",
      "\n",
      "                  Skew\n",
      "FIREPLACES  167.931247\n",
      "STORIES      95.583603\n",
      "BLDG_NUM     83.740245\n",
      "AYB          19.759579\n",
      "ZIPCODE      16.335698\n",
      "LANDAREA      4.606162\n",
      "USECODE       2.265421\n",
      "SALE_NUM      1.753085\n",
      "LIVING_GBA    1.630623\n",
      "NUM_UNITS     1.612659\n",
      "KITCHENS      1.527030\n",
      "BATHRM        1.321382\n",
      "CMPLX_NUM     1.290780\n",
      "ROOMS         1.210204\n",
      "GBA           1.207344\n",
      "HF_BATHRM     1.138631\n",
      "Fixed skewness\n"
     ]
    }
   ],
   "source": [
    "def fix_skewness(dataframe):\n",
    "    skewed_feats = dataframe.apply(lambda x: abs(skew(x.dropna()))).sort_values(ascending=False)\n",
    "    skewness = pd.DataFrame({'Skew': skewed_feats})\n",
    "    skewness = skewness[abs(skewness) > 0.75].dropna()\n",
    "    print(\"There are {} skewed numerical features to transform\".format(skewness.shape[0]))\n",
    "    print(\"\\nSkew > .75 in numerical features: \\n\")\n",
    "    print(skewness)\n",
    "    # Fix skewness\n",
    "    skewed_features = skewness.index\n",
    "    lam = 0.15\n",
    "    for feat in skewed_features:\n",
    "        if feat == 'PRICE': continue\n",
    "        dataframe[feat] = boxcox1p(dataframe[feat], lam)\n",
    "    print('Fixed skewness')\n",
    "\n",
    "fix_skewness(numeric_columns)\n",
    "fix_skewness(test_numeric_columns)"
   ]
  },
  {
   "cell_type": "code",
   "execution_count": 10,
   "metadata": {},
   "outputs": [
    {
     "data": {
      "text/plain": [
       "HEAT                  0\n",
       "AC                    0\n",
       "SALEDATE              0\n",
       "QUALIFIED             0\n",
       "STYLE                 0\n",
       "STRUCT                0\n",
       "GRADE                 0\n",
       "CNDTN                 0\n",
       "EXTWALL               0\n",
       "ROOF                  0\n",
       "INTWALL               0\n",
       "GIS_LAST_MOD_DTTM     0\n",
       "SOURCE                0\n",
       "FULLADDRESS           0\n",
       "CITY                  0\n",
       "STATE                 0\n",
       "NATIONALGRID          0\n",
       "ASSESSMENT_NBHD       0\n",
       "ASSESSMENT_SUBNBHD    0\n",
       "CENSUS_BLOCK          0\n",
       "WARD                  0\n",
       "QUADRANT              0\n",
       "dtype: int64"
      ]
     },
     "execution_count": 10,
     "metadata": {},
     "output_type": "execute_result"
    }
   ],
   "source": [
    "test_object_columns.isnull().sum()"
   ]
  },
  {
   "cell_type": "code",
   "execution_count": 11,
   "metadata": {
    "scrolled": false
   },
   "outputs": [
    {
     "name": "stdout",
     "output_type": "stream",
     "text": [
      "135516 distinct labels generated\n"
     ]
    },
    {
     "name": "stderr",
     "output_type": "stream",
     "text": [
      "/Users/takato/.pyenv/versions/anaconda3-5.0.0/lib/python3.6/site-packages/pandas/core/indexing.py:601: SettingWithCopyWarning: \n",
      "A value is trying to be set on a copy of a slice from a DataFrame.\n",
      "Try using .loc[row_indexer,col_indexer] = value instead\n",
      "\n",
      "See the caveats in the documentation: http://pandas.pydata.org/pandas-docs/stable/indexing.html#indexing-view-versus-copy\n",
      "  self.obj[item_labels[indexer[info_axis]]] = value\n",
      "/Users/takato/.pyenv/versions/anaconda3-5.0.0/lib/python3.6/site-packages/pandas/core/indexing.py:517: SettingWithCopyWarning: \n",
      "A value is trying to be set on a copy of a slice from a DataFrame.\n",
      "Try using .loc[row_indexer,col_indexer] = value instead\n",
      "\n",
      "See the caveats in the documentation: http://pandas.pydata.org/pandas-docs/stable/indexing.html#indexing-view-versus-copy\n",
      "  self.obj[item] = s\n"
     ]
    },
    {
     "data": {
      "text/html": [
       "<div>\n",
       "<style>\n",
       "    .dataframe thead tr:only-child th {\n",
       "        text-align: right;\n",
       "    }\n",
       "\n",
       "    .dataframe thead th {\n",
       "        text-align: left;\n",
       "    }\n",
       "\n",
       "    .dataframe tbody tr th {\n",
       "        vertical-align: top;\n",
       "    }\n",
       "</style>\n",
       "<table border=\"1\" class=\"dataframe\">\n",
       "  <thead>\n",
       "    <tr style=\"text-align: right;\">\n",
       "      <th></th>\n",
       "      <th>HEAT</th>\n",
       "      <th>AC</th>\n",
       "      <th>SALEDATE</th>\n",
       "      <th>QUALIFIED</th>\n",
       "      <th>STYLE</th>\n",
       "      <th>STRUCT</th>\n",
       "      <th>GRADE</th>\n",
       "      <th>CNDTN</th>\n",
       "      <th>EXTWALL</th>\n",
       "      <th>ROOF</th>\n",
       "      <th>...</th>\n",
       "      <th>SOURCE</th>\n",
       "      <th>FULLADDRESS</th>\n",
       "      <th>CITY</th>\n",
       "      <th>STATE</th>\n",
       "      <th>NATIONALGRID</th>\n",
       "      <th>ASSESSMENT_NBHD</th>\n",
       "      <th>ASSESSMENT_SUBNBHD</th>\n",
       "      <th>CENSUS_BLOCK</th>\n",
       "      <th>WARD</th>\n",
       "      <th>QUADRANT</th>\n",
       "    </tr>\n",
       "  </thead>\n",
       "  <tbody>\n",
       "    <tr>\n",
       "      <th>0</th>\n",
       "      <td>125609</td>\n",
       "      <td>125702</td>\n",
       "      <td>85058</td>\n",
       "      <td>125643</td>\n",
       "      <td>92729</td>\n",
       "      <td>125649</td>\n",
       "      <td>125678</td>\n",
       "      <td>125678</td>\n",
       "      <td>125568</td>\n",
       "      <td>125555</td>\n",
       "      <td>...</td>\n",
       "      <td>125645</td>\n",
       "      <td>18317</td>\n",
       "      <td>125682</td>\n",
       "      <td>125577</td>\n",
       "      <td>33683</td>\n",
       "      <td>125636</td>\n",
       "      <td>3868</td>\n",
       "      <td>1655</td>\n",
       "      <td>125686</td>\n",
       "      <td>125629</td>\n",
       "    </tr>\n",
       "    <tr>\n",
       "      <th>1</th>\n",
       "      <td>125609</td>\n",
       "      <td>125702</td>\n",
       "      <td>83385</td>\n",
       "      <td>125643</td>\n",
       "      <td>102182</td>\n",
       "      <td>125649</td>\n",
       "      <td>125678</td>\n",
       "      <td>125601</td>\n",
       "      <td>125568</td>\n",
       "      <td>125555</td>\n",
       "      <td>...</td>\n",
       "      <td>125645</td>\n",
       "      <td>17334</td>\n",
       "      <td>125682</td>\n",
       "      <td>125577</td>\n",
       "      <td>33959</td>\n",
       "      <td>125636</td>\n",
       "      <td>3868</td>\n",
       "      <td>1655</td>\n",
       "      <td>125686</td>\n",
       "      <td>125629</td>\n",
       "    </tr>\n",
       "    <tr>\n",
       "      <th>2</th>\n",
       "      <td>125693</td>\n",
       "      <td>125702</td>\n",
       "      <td>83796</td>\n",
       "      <td>125643</td>\n",
       "      <td>80543</td>\n",
       "      <td>125649</td>\n",
       "      <td>125537</td>\n",
       "      <td>125678</td>\n",
       "      <td>125667</td>\n",
       "      <td>125623</td>\n",
       "      <td>...</td>\n",
       "      <td>125645</td>\n",
       "      <td>17734</td>\n",
       "      <td>125682</td>\n",
       "      <td>125577</td>\n",
       "      <td>33961</td>\n",
       "      <td>125636</td>\n",
       "      <td>3868</td>\n",
       "      <td>1654</td>\n",
       "      <td>125686</td>\n",
       "      <td>125629</td>\n",
       "    </tr>\n",
       "    <tr>\n",
       "      <th>3</th>\n",
       "      <td>125693</td>\n",
       "      <td>125702</td>\n",
       "      <td>83557</td>\n",
       "      <td>125643</td>\n",
       "      <td>80543</td>\n",
       "      <td>125649</td>\n",
       "      <td>125537</td>\n",
       "      <td>125678</td>\n",
       "      <td>125568</td>\n",
       "      <td>125623</td>\n",
       "      <td>...</td>\n",
       "      <td>125645</td>\n",
       "      <td>17860</td>\n",
       "      <td>125682</td>\n",
       "      <td>125577</td>\n",
       "      <td>33919</td>\n",
       "      <td>125636</td>\n",
       "      <td>3868</td>\n",
       "      <td>1654</td>\n",
       "      <td>125686</td>\n",
       "      <td>125629</td>\n",
       "    </tr>\n",
       "    <tr>\n",
       "      <th>4</th>\n",
       "      <td>125609</td>\n",
       "      <td>125702</td>\n",
       "      <td>81023</td>\n",
       "      <td>125643</td>\n",
       "      <td>80543</td>\n",
       "      <td>125649</td>\n",
       "      <td>125602</td>\n",
       "      <td>125601</td>\n",
       "      <td>125568</td>\n",
       "      <td>125555</td>\n",
       "      <td>...</td>\n",
       "      <td>125645</td>\n",
       "      <td>18132</td>\n",
       "      <td>125682</td>\n",
       "      <td>125577</td>\n",
       "      <td>33851</td>\n",
       "      <td>125636</td>\n",
       "      <td>3868</td>\n",
       "      <td>1654</td>\n",
       "      <td>125686</td>\n",
       "      <td>125629</td>\n",
       "    </tr>\n",
       "  </tbody>\n",
       "</table>\n",
       "<p>5 rows × 22 columns</p>\n",
       "</div>"
      ],
      "text/plain": [
       "     HEAT      AC  SALEDATE  QUALIFIED   STYLE  STRUCT   GRADE   CNDTN  \\\n",
       "0  125609  125702     85058     125643   92729  125649  125678  125678   \n",
       "1  125609  125702     83385     125643  102182  125649  125678  125601   \n",
       "2  125693  125702     83796     125643   80543  125649  125537  125678   \n",
       "3  125693  125702     83557     125643   80543  125649  125537  125678   \n",
       "4  125609  125702     81023     125643   80543  125649  125602  125601   \n",
       "\n",
       "   EXTWALL    ROOF    ...     SOURCE  FULLADDRESS    CITY   STATE  \\\n",
       "0   125568  125555    ...     125645        18317  125682  125577   \n",
       "1   125568  125555    ...     125645        17334  125682  125577   \n",
       "2   125667  125623    ...     125645        17734  125682  125577   \n",
       "3   125568  125623    ...     125645        17860  125682  125577   \n",
       "4   125568  125555    ...     125645        18132  125682  125577   \n",
       "\n",
       "   NATIONALGRID  ASSESSMENT_NBHD  ASSESSMENT_SUBNBHD  CENSUS_BLOCK    WARD  \\\n",
       "0         33683           125636                3868          1655  125686   \n",
       "1         33959           125636                3868          1655  125686   \n",
       "2         33961           125636                3868          1654  125686   \n",
       "3         33919           125636                3868          1654  125686   \n",
       "4         33851           125636                3868          1654  125686   \n",
       "\n",
       "   QUADRANT  \n",
       "0    125629  \n",
       "1    125629  \n",
       "2    125629  \n",
       "3    125629  \n",
       "4    125629  \n",
       "\n",
       "[5 rows x 22 columns]"
      ]
     },
     "execution_count": 11,
     "metadata": {},
     "output_type": "execute_result"
    }
   ],
   "source": [
    "strings = np.array([])\n",
    "for c in object_columns.columns:\n",
    "    strings = np.append(strings, pd.unique(object_columns[c].values))\n",
    "\n",
    "for c in test_object_columns.columns:\n",
    "    strings = np.append(strings, pd.unique(test_object_columns[c].values))\n",
    "\n",
    "print(len(strings), 'distinct labels generated')\n",
    "\n",
    "labeler = LabelEncoder()\n",
    "labeler.fit(strings.astype(\"str\"))\n",
    "\n",
    "for c in object_columns.columns:\n",
    "    object_columns.loc[:,c] = labeler.transform(object_columns.loc[:,c])\n",
    "    test_object_columns.loc[:,c] = labeler.transform(test_object_columns.loc[:,c])\n",
    "\n",
    "object_columns[0:5]"
   ]
  },
  {
   "cell_type": "code",
   "execution_count": 13,
   "metadata": {},
   "outputs": [],
   "source": [
    "# final train dataset\n",
    "train_ds = object_columns.join(numeric_columns)\n",
    "train_ds[\"PRICE\"] = np.log1p(train_ds[\"PRICE\"])\n",
    "\n",
    "# test dataset\n",
    "test_ds = test_object_columns.join(test_numeric_columns)\n",
    "\n",
    "#correlation matrix\n",
    "corrmat = train_ds.corr()['PRICE']\n",
    "#f, ax = plt.subplots(figsize=(12, 9))\n",
    "#sns.heatmap(corrmat, vmax=.8, square=True);\n",
    "\n",
    "best_columns = corrmat[abs(corrmat) > 0.0].index\n",
    "train_ds = train_ds[best_columns]\n",
    "test_ds = test_ds[best_columns.drop('PRICE')]"
   ]
  },
  {
   "cell_type": "code",
   "execution_count": 14,
   "metadata": {},
   "outputs": [
    {
     "name": "stdout",
     "output_type": "stream",
     "text": [
      "Training set features shape (49108, 46)\n",
      "Training set labels shape (49108, 1)\n",
      "Test set shape (49108, 46)\n"
     ]
    }
   ],
   "source": [
    "X_train = (train_ds.values[:,:-1])\n",
    "y_train = np.asarray([[t] for t in (train_ds.values[:,-1])])\n",
    "X_test = test_ds.values\n",
    "\n",
    "print('Training set features shape', X_train.shape)\n",
    "print('Training set labels shape', y_train.shape)\n",
    "print('Test set shape', test_ds.shape)"
   ]
  },
  {
   "cell_type": "code",
   "execution_count": 15,
   "metadata": {
    "collapsed": true
   },
   "outputs": [],
   "source": [
    "from sklearn.preprocessing import RobustScaler\n",
    "transformer = RobustScaler().fit(X_train)\n",
    "X_train = pd.DataFrame(transformer.transform(X_train))\n",
    "X_test = pd.DataFrame(transformer.transform(X_test))"
   ]
  },
  {
   "cell_type": "code",
   "execution_count": 16,
   "metadata": {
    "collapsed": true
   },
   "outputs": [],
   "source": [
    "def train_model(depth, learning_rate, n_estimators, model_type='xgb'):\n",
    "    if model_type == 'xgb':\n",
    "        model = xgb.XGBRegressor(colsample_bytree=0.4603, gamma=0.0468, \n",
    "                                 learning_rate=learning_rate, max_depth=depth, \n",
    "                                 min_child_weight=1.7817, n_estimators=n_estimators,\n",
    "                                 reg_alpha=0.4640, reg_lambda=0.8571,\n",
    "                                 subsample=0.5213, silent=1,\n",
    "                                 random_state =7, nthread = -1)\n",
    "    if model_type == 'lgb':\n",
    "        model = lgb.LGBMRegressor(colsample_bytree=0.4603, gamma=0.0468, \n",
    "                                 learning_rate=learning_rate, max_depth=depth, \n",
    "                                 min_child_weight=1.7817, n_estimators=n_estimators,\n",
    "                                 reg_alpha=0.4640, reg_lambda=0.8571,\n",
    "                                 subsample=0.5213, silent=1,\n",
    "                                 random_state =7, nthread = -1)\n",
    "    score = rmsle_cv(model)\n",
    "    print(model_type, \" score: depth={:d} lr={:.2f} est={:d} -> mean:{:.5f} std:{:.4f}\".format(depth, learning_rate, n_estimators, score.mean(), score.std()))\n",
    "    return score\n",
    "\n",
    "#Validation function\n",
    "n_folds = 5\n",
    "\n",
    "def rmsle_cv(model):\n",
    "    kf = KFold(n_folds, shuffle=True, random_state=42).get_n_splits(train)\n",
    "    rmse= np.sqrt(-cross_val_score(model, X_train, y_train.flatten(), scoring=\"neg_mean_squared_error\", cv = kf))\n",
    "    return(rmse)\n",
    "\n",
    "\n",
    "def rmsle(y, y_pred):\n",
    "    return np.sqrt(mean_squared_error(y, y_pred))"
   ]
  },
  {
   "cell_type": "code",
   "execution_count": null,
   "metadata": {},
   "outputs": [
    {
     "name": "stdout",
     "output_type": "stream",
     "text": [
      "xgb  score: depth=3 lr=0.02 est=4000 -> mean:0.51648 std:0.1681\n"
     ]
    }
   ],
   "source": [
    "result = []\n",
    "for depth in range(3, 4):\n",
    "    for learning_rate in range(2, 3, 1):\n",
    "        for n_estimators in range(4000, 4800, 200):\n",
    "            score = train_model(depth, learning_rate/100, n_estimators, model_type='xgb')\n",
    "            result.append([depth, learning_rate/100, n_estimators, score.mean(), score.std()])"
   ]
  },
  {
   "cell_type": "code",
   "execution_count": null,
   "metadata": {
    "collapsed": true
   },
   "outputs": [],
   "source": [
    "# check results\n",
    "result = pd.DataFrame(result, columns=['depth', 'learning_rate', 'n_estimators', 'score_mean', 'score_std'])\n",
    "result.describe()"
   ]
  },
  {
   "cell_type": "code",
   "execution_count": null,
   "metadata": {
    "collapsed": true
   },
   "outputs": [],
   "source": []
  }
 ],
 "metadata": {
  "kernelspec": {
   "display_name": "Python 3",
   "language": "python",
   "name": "python3"
  },
  "language_info": {
   "codemirror_mode": {
    "name": "ipython",
    "version": 3
   },
   "file_extension": ".py",
   "mimetype": "text/x-python",
   "name": "python",
   "nbconvert_exporter": "python",
   "pygments_lexer": "ipython3",
   "version": "3.6.2"
  }
 },
 "nbformat": 4,
 "nbformat_minor": 2
}
