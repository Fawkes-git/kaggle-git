{
 "cells": [
  {
   "cell_type": "code",
   "execution_count": 12,
   "metadata": {
    "_cell_guid": "b1076dfc-b9ad-4769-8c92-a6c4dae69d19",
    "_uuid": "8f2839f25d086af736a60e9eeb907d3b93b6e0e5"
   },
   "outputs": [],
   "source": [
    "import math\n",
    "import pandas as pd\n",
    "import numpy as np\n",
    "from scipy.stats import stats, norm, skew\n",
    "import seaborn as sns\n",
    "import matplotlib\n",
    "import matplotlib.pyplot as plt\n",
    "import matplotlib.image as mpimg\n",
    "from sklearn import preprocessing\n",
    "from sklearn.metrics import confusion_matrix, mean_squared_error\n",
    "from sklearn.model_selection import train_test_split\n",
    "from sklearn.linear_model import LinearRegression\n",
    "from sklearn.model_selection import KFold\n",
    "from sklearn.preprocessing import StandardScaler, MinMaxScaler, LabelEncoder\n",
    "from sklearn.model_selection import KFold, cross_val_score, train_test_split\n",
    "from keras.models import Sequential\n",
    "from keras.callbacks import ModelCheckpoint\n",
    "from keras.layers import Dense, Dropout, Flatten, Conv2D, MaxPool2D\n",
    "from keras.utils.np_utils import to_categorical\n",
    "from keras.wrappers.scikit_learn import KerasRegressor\n",
    "from scipy.special import boxcox1p\n",
    "import lightgbm as lgb\n",
    "import xgboost as xgb\n",
    "from fastprogress import master_bar, progress_bar\n",
    "from sklearn.svm import SVC\n",
    "from sklearn.model_selection import train_test_split, GridSearchCV\n",
    "\n",
    "\n",
    "%matplotlib inline\n",
    "np.random.seed(2)"
   ]
  },
  {
   "cell_type": "code",
   "execution_count": 13,
   "metadata": {
    "_uuid": "754b4a5105730af0cbf690b4bb598e677c75013b",
    "collapsed": true
   },
   "outputs": [],
   "source": [
    "plt.style.use('ggplot') \n",
    "matplotlib.rcParams['figure.figsize'] = (10,10)\n",
    "plt.rcParams['font.size'] = 26 #font size\n",
    "plt.rcParams['axes.linewidth'] = 1.5 #axis setting"
   ]
  },
  {
   "cell_type": "code",
   "execution_count": 16,
   "metadata": {
    "_cell_guid": "79c7e3d0-c299-4dcb-8224-4455121ee9b0",
    "_uuid": "d629ff2d2480ee46fbb7e2d37f6b5fab8052498a"
   },
   "outputs": [
    {
     "name": "stderr",
     "output_type": "stream",
     "text": [
      "/Users/takato/.pyenv/versions/anaconda3-5.0.0/lib/python3.6/site-packages/IPython/core/interactiveshell.py:2698: DtypeWarning: Columns (17,18,19,20,21,22,23,32,33,34,36,42,44) have mixed types. Specify dtype option on import or set low_memory=False.\n",
      "  interactivity=interactivity, compiler=compiler, result=result)\n"
     ]
    },
    {
     "name": "stdout",
     "output_type": "stream",
     "text": [
      "(49108, 49)\n",
      "(49108, 48)\n"
     ]
    }
   ],
   "source": [
    "# Load the data\n",
    "train = pd.read_csv(\"./train_set.csv\")\n",
    "test = pd.read_csv(\"./test_set.csv\")\n",
    "\n",
    "print(train.shape)\n",
    "print(test.shape)"
   ]
  },
  {
   "cell_type": "code",
   "execution_count": 17,
   "metadata": {
    "_uuid": "d78ba4a279f81c6e5356b862224499af3311cece"
   },
   "outputs": [
    {
     "data": {
      "text/plain": [
       "Index(['BATHRM', 'HF_BATHRM', 'HEAT', 'AC', 'NUM_UNITS', 'ROOMS', 'BEDRM',\n",
       "       'AYB', 'YR_RMDL', 'EYB', 'STORIES', 'SALEDATE', 'QUALIFIED', 'SALE_NUM',\n",
       "       'GBA', 'BLDG_NUM', 'STYLE', 'STRUCT', 'GRADE', 'CNDTN', 'EXTWALL',\n",
       "       'ROOF', 'INTWALL', 'KITCHENS', 'FIREPLACES', 'USECODE', 'LANDAREA',\n",
       "       'GIS_LAST_MOD_DTTM', 'SOURCE', 'CMPLX_NUM', 'LIVING_GBA', 'FULLADDRESS',\n",
       "       'CITY', 'STATE', 'ZIPCODE', 'NATIONALGRID', 'LATITUDE', 'LONGITUDE',\n",
       "       'ASSESSMENT_NBHD', 'ASSESSMENT_SUBNBHD', 'CENSUS_TRACT', 'CENSUS_BLOCK',\n",
       "       'WARD', 'QUADRANT', 'PRICE'],\n",
       "      dtype='object')"
      ]
     },
     "execution_count": 17,
     "metadata": {},
     "output_type": "execute_result"
    }
   ],
   "source": [
    "train = train.drop(['Id',\"SQUARE\",\"X\",'Y'], axis=1)\n",
    "test = test.drop([\"SQUARE\",'X','Y'], axis=1)\n",
    "\n",
    "train[\"GBA\"] = np.log1p(train[\"GBA\"])\n",
    "test[\"GBA\"] = np.log1p(test[\"GBA\"])\n",
    "train[\"LIVING_GBA\"] = np.log1p(train[\"LIVING_GBA\"])\n",
    "test[\"LIVING_GBA\"] = np.log1p(test[\"LIVING_GBA\"])\n",
    "\n",
    "train.columns"
   ]
  },
  {
   "cell_type": "code",
   "execution_count": 18,
   "metadata": {
    "_uuid": "a1241b9b573a8f6115980ac330948c2bbe5620ed"
   },
   "outputs": [
    {
     "data": {
      "text/plain": [
       "BATHRM                  int64\n",
       "HF_BATHRM               int64\n",
       "HEAT                   object\n",
       "AC                     object\n",
       "NUM_UNITS             float64\n",
       "ROOMS                   int64\n",
       "BEDRM                   int64\n",
       "AYB                   float64\n",
       "YR_RMDL               float64\n",
       "EYB                     int64\n",
       "STORIES               float64\n",
       "SALEDATE               object\n",
       "QUALIFIED              object\n",
       "SALE_NUM                int64\n",
       "GBA                   float64\n",
       "BLDG_NUM                int64\n",
       "STYLE                  object\n",
       "STRUCT                 object\n",
       "GRADE                  object\n",
       "CNDTN                  object\n",
       "EXTWALL                object\n",
       "ROOF                   object\n",
       "INTWALL                object\n",
       "KITCHENS              float64\n",
       "FIREPLACES              int64\n",
       "USECODE                 int64\n",
       "LANDAREA                int64\n",
       "GIS_LAST_MOD_DTTM      object\n",
       "SOURCE                 object\n",
       "CMPLX_NUM             float64\n",
       "LIVING_GBA            float64\n",
       "FULLADDRESS            object\n",
       "CITY                   object\n",
       "STATE                  object\n",
       "ZIPCODE               float64\n",
       "NATIONALGRID           object\n",
       "LATITUDE              float64\n",
       "LONGITUDE             float64\n",
       "ASSESSMENT_NBHD        object\n",
       "ASSESSMENT_SUBNBHD     object\n",
       "CENSUS_TRACT          float64\n",
       "CENSUS_BLOCK           object\n",
       "WARD                   object\n",
       "QUADRANT               object\n",
       "PRICE                 float64\n",
       "dtype: object"
      ]
     },
     "execution_count": 18,
     "metadata": {},
     "output_type": "execute_result"
    }
   ],
   "source": [
    "train.dtypes"
   ]
  },
  {
   "cell_type": "code",
   "execution_count": 19,
   "metadata": {
    "_uuid": "d2a1991ee4a69b6f8df05fd6b40732096dd1b55e"
   },
   "outputs": [
    {
     "name": "stderr",
     "output_type": "stream",
     "text": [
      "/Users/takato/.pyenv/versions/anaconda3-5.0.0/lib/python3.6/site-packages/pandas/core/indexing.py:601: SettingWithCopyWarning: \n",
      "A value is trying to be set on a copy of a slice from a DataFrame.\n",
      "Try using .loc[row_indexer,col_indexer] = value instead\n",
      "\n",
      "See the caveats in the documentation: http://pandas.pydata.org/pandas-docs/stable/indexing.html#indexing-view-versus-copy\n",
      "  self.obj[item_labels[indexer[info_axis]]] = value\n"
     ]
    },
    {
     "name": "stdout",
     "output_type": "stream",
     "text": [
      "Fixes remaining on train set\n",
      " Series([], dtype: int64)\n",
      "Fixes remaining on test set\n",
      " Series([], dtype: int64)\n"
     ]
    }
   ],
   "source": [
    "cols_with_none_as_nan = [\n",
    "    \"HEAT\", \n",
    "    \"AC\",\n",
    "    \"SALEDATE\",\n",
    "    \"STYLE\",\n",
    "    \"STRUCT\",\n",
    "    \"GRADE\",\n",
    "    \"CNDTN\",\n",
    "    \"EXTWALL\",\n",
    "    \"ROOF\",\n",
    "    \"INTWALL\",\n",
    "    \"FULLADDRESS\",\n",
    "    \"CITY\",\n",
    "    \"STATE\",\n",
    "    \"NATIONALGRID\",\n",
    "    \"ASSESSMENT_SUBNBHD\",\n",
    "    \"CENSUS_BLOCK\",\n",
    "    \"QUADRANT\"\n",
    "    ]\n",
    "\n",
    "\n",
    "# fill missing text fields with a default string\n",
    "object_columns = train.select_dtypes(include=[object])\n",
    "test_object_columns = test.select_dtypes(include=[object])\n",
    "\n",
    "# for these colunms the string 'None' will be inserted in place of nan\n",
    "for col in cols_with_none_as_nan:\n",
    "    object_columns.loc[:, col] = object_columns.loc[:, col].fillna('None')\n",
    "    test_object_columns.loc[:, col] = test_object_columns.loc[:, col].fillna('None')\n",
    "\n",
    "remaining_fix = object_columns.isnull().sum()\n",
    "print('Fixes remaining on train set\\n', remaining_fix[remaining_fix>0])\n",
    "\n",
    "remaining_fix = test_object_columns.isnull().sum()\n",
    "print('Fixes remaining on test set\\n',remaining_fix[remaining_fix>0])"
   ]
  },
  {
   "cell_type": "code",
   "execution_count": 20,
   "metadata": {
    "_uuid": "040a3f5ed4709eb84be7731bc3d9e210f153e0ff"
   },
   "outputs": [
    {
     "name": "stdout",
     "output_type": "stream",
     "text": [
      "Fixes remaining on train set\n",
      " NUM_UNITS     20053\n",
      "AYB              56\n",
      "YR_RMDL       20418\n",
      "STORIES       20071\n",
      "GBA           20053\n",
      "KITCHENS      20053\n",
      "CMPLX_NUM     29055\n",
      "LIVING_GBA    29055\n",
      "dtype: int64\n",
      "Fixes remaining on test set\n",
      " NUM_UNITS     20263\n",
      "AYB              56\n",
      "YR_RMDL       20124\n",
      "STORIES       20278\n",
      "GBA           20263\n",
      "KITCHENS      20264\n",
      "CMPLX_NUM     28845\n",
      "LIVING_GBA    28845\n",
      "dtype: int64\n"
     ]
    }
   ],
   "source": [
    "numeric_columns = train.select_dtypes(include=[int, float])\n",
    "\n",
    "remaining_fix = numeric_columns.isnull().sum()\n",
    "print('Fixes remaining on train set\\n',remaining_fix[remaining_fix>0])\n",
    "\n",
    "test_numeric_columns = test.select_dtypes(include=[int, float])\n",
    "\n",
    "remaining_fix = test_numeric_columns.isnull().sum()\n",
    "print('Fixes remaining on test set\\n',remaining_fix[remaining_fix>0])"
   ]
  },
  {
   "cell_type": "code",
   "execution_count": 21,
   "metadata": {
    "_uuid": "92685802f7cdf157674988ea46e41ae367e6fc24"
   },
   "outputs": [
    {
     "name": "stderr",
     "output_type": "stream",
     "text": [
      "/Users/takato/.pyenv/versions/anaconda3-5.0.0/lib/python3.6/site-packages/pandas/core/indexing.py:517: SettingWithCopyWarning: \n",
      "A value is trying to be set on a copy of a slice from a DataFrame.\n",
      "Try using .loc[row_indexer,col_indexer] = value instead\n",
      "\n",
      "See the caveats in the documentation: http://pandas.pydata.org/pandas-docs/stable/indexing.html#indexing-view-versus-copy\n",
      "  self.obj[item] = s\n"
     ]
    },
    {
     "name": "stdout",
     "output_type": "stream",
     "text": [
      "Fixes remaining on train set\n",
      " Series([], dtype: int64)\n",
      "Fixes remaining on test set\n",
      " Series([], dtype: int64)\n"
     ]
    }
   ],
   "source": [
    "cols_with_zero_as_nan = ['CMPLX_NUM',\n",
    "                         'YR_RMDL',\n",
    "                         'KITCHENS',\n",
    "                         'NUM_UNITS',\n",
    "                         'STORIES',\n",
    "                         \"AYB\",\n",
    "                         \"GBA\",\n",
    "                         \"LIVING_GBA\"\n",
    "                        ]\n",
    "\n",
    "cols_with_mean_as_nan = [\n",
    "                        ]\n",
    "\n",
    "\n",
    "# for these colunms a zero will be inserted in place of nan\n",
    "for col in cols_with_zero_as_nan:\n",
    "    numeric_columns.loc[:, col] = numeric_columns.loc[:, col].fillna(0)\n",
    "    test_numeric_columns.loc[:, col] = test_numeric_columns.loc[:, col].fillna(0)\n",
    "    \n",
    "# for these colunms the mean will be inserted in place of nan\n",
    "for col in cols_with_mean_as_nan:\n",
    "    numeric_columns.loc[:, col] = numeric_columns.loc[:, col].fillna(numeric_columns[col].mean())\n",
    "    test_numeric_columns.loc[:, col] = test_numeric_columns.loc[:, col].fillna(test_numeric_columns[col].mean())\n",
    "\n",
    "\n",
    "remaining_fix = numeric_columns.isnull().sum()\n",
    "print('Fixes remaining on train set\\n',remaining_fix[remaining_fix>0])\n",
    "\n",
    "remaining_fix = test_numeric_columns.isnull().sum()\n",
    "print('Fixes remaining on test set\\n',remaining_fix[remaining_fix>0])"
   ]
  },
  {
   "cell_type": "code",
   "execution_count": 22,
   "metadata": {
    "_uuid": "b383c47695c2d078d7e95c9ee0406217c2f5e1cc",
    "collapsed": true
   },
   "outputs": [],
   "source": [
    "train_res = train[train[\"SOURCE\"] == \"Residential\"]\n",
    "train_con = train[train[\"SOURCE\"] == \"Condominium\"]\n",
    "\n",
    "test_res = test[test[\"SOURCE\"] == \"Residential\"]\n",
    "test_con = test[test[\"SOURCE\"] == \"Condominium\"]\n"
   ]
  },
  {
   "cell_type": "code",
   "execution_count": 23,
   "metadata": {
    "_uuid": "c818563a6db4a9935ec100a157d783c4d1860ac1"
   },
   "outputs": [
    {
     "name": "stdout",
     "output_type": "stream",
     "text": [
      "There are 15 skewed numerical features to transform\n",
      "\n",
      "Skew > .75 in numerical features: \n",
      "\n",
      "                  Skew\n",
      "FIREPLACES  221.596365\n",
      "STORIES     178.135568\n",
      "BLDG_NUM     83.740245\n",
      "AYB          19.774995\n",
      "PRICE        18.377059\n",
      "ZIPCODE      16.634201\n",
      "LANDAREA     13.677086\n",
      "KITCHENS      4.464330\n",
      "USECODE       2.245318\n",
      "SALE_NUM      1.764593\n",
      "NUM_UNITS     1.631241\n",
      "BATHRM        1.369842\n",
      "CMPLX_NUM     1.289017\n",
      "ROOMS         1.227033\n",
      "HF_BATHRM     0.990909\n"
     ]
    },
    {
     "name": "stderr",
     "output_type": "stream",
     "text": [
      "/Users/takato/.pyenv/versions/anaconda3-5.0.0/lib/python3.6/site-packages/ipykernel_launcher.py:13: SettingWithCopyWarning: \n",
      "A value is trying to be set on a copy of a slice from a DataFrame.\n",
      "Try using .loc[row_indexer,col_indexer] = value instead\n",
      "\n",
      "See the caveats in the documentation: http://pandas.pydata.org/pandas-docs/stable/indexing.html#indexing-view-versus-copy\n",
      "  del sys.path[0]\n"
     ]
    },
    {
     "name": "stdout",
     "output_type": "stream",
     "text": [
      "Fixed skewness\n",
      "There are 14 skewed numerical features to transform\n",
      "\n",
      "Skew > .75 in numerical features: \n",
      "\n",
      "                  Skew\n",
      "FIREPLACES  167.931247\n",
      "STORIES      95.583603\n",
      "BLDG_NUM     83.740245\n",
      "AYB          19.759579\n",
      "ZIPCODE      16.335698\n",
      "LANDAREA      4.606162\n",
      "USECODE       2.265421\n",
      "SALE_NUM      1.753085\n",
      "NUM_UNITS     1.612659\n",
      "KITCHENS      1.527030\n",
      "BATHRM        1.321382\n",
      "CMPLX_NUM     1.290780\n",
      "ROOMS         1.210204\n",
      "HF_BATHRM     1.138631\n",
      "Fixed skewness\n"
     ]
    }
   ],
   "source": [
    "def fix_skewness(dataframe):\n",
    "    skewed_feats = dataframe.apply(lambda x: abs(skew(x.dropna()))).sort_values(ascending=False)\n",
    "    skewness = pd.DataFrame({'Skew': skewed_feats})\n",
    "    skewness = skewness[abs(skewness) > 0.75].dropna()\n",
    "    print(\"There are {} skewed numerical features to transform\".format(skewness.shape[0]))\n",
    "    print(\"\\nSkew > .75 in numerical features: \\n\")\n",
    "    print(skewness)\n",
    "    # Fix skewness\n",
    "    skewed_features = skewness.index\n",
    "    lam = 0.15\n",
    "    for feat in skewed_features:\n",
    "        if feat == 'PRICE': continue\n",
    "        dataframe[feat] = boxcox1p(dataframe[feat], lam)\n",
    "    print('Fixed skewness')\n",
    "\n",
    "fix_skewness(numeric_columns)\n",
    "fix_skewness(test_numeric_columns)"
   ]
  },
  {
   "cell_type": "code",
   "execution_count": 24,
   "metadata": {
    "_uuid": "10115634cb2fe617586f86be732c3fb707099bc7"
   },
   "outputs": [
    {
     "name": "stdout",
     "output_type": "stream",
     "text": [
      "135516 distinct labels generated\n"
     ]
    },
    {
     "name": "stderr",
     "output_type": "stream",
     "text": [
      "/Users/takato/.pyenv/versions/anaconda3-5.0.0/lib/python3.6/site-packages/pandas/core/indexing.py:601: SettingWithCopyWarning: \n",
      "A value is trying to be set on a copy of a slice from a DataFrame.\n",
      "Try using .loc[row_indexer,col_indexer] = value instead\n",
      "\n",
      "See the caveats in the documentation: http://pandas.pydata.org/pandas-docs/stable/indexing.html#indexing-view-versus-copy\n",
      "  self.obj[item_labels[indexer[info_axis]]] = value\n",
      "/Users/takato/.pyenv/versions/anaconda3-5.0.0/lib/python3.6/site-packages/pandas/core/indexing.py:517: SettingWithCopyWarning: \n",
      "A value is trying to be set on a copy of a slice from a DataFrame.\n",
      "Try using .loc[row_indexer,col_indexer] = value instead\n",
      "\n",
      "See the caveats in the documentation: http://pandas.pydata.org/pandas-docs/stable/indexing.html#indexing-view-versus-copy\n",
      "  self.obj[item] = s\n"
     ]
    },
    {
     "data": {
      "text/html": [
       "<div>\n",
       "<style>\n",
       "    .dataframe thead tr:only-child th {\n",
       "        text-align: right;\n",
       "    }\n",
       "\n",
       "    .dataframe thead th {\n",
       "        text-align: left;\n",
       "    }\n",
       "\n",
       "    .dataframe tbody tr th {\n",
       "        vertical-align: top;\n",
       "    }\n",
       "</style>\n",
       "<table border=\"1\" class=\"dataframe\">\n",
       "  <thead>\n",
       "    <tr style=\"text-align: right;\">\n",
       "      <th></th>\n",
       "      <th>HEAT</th>\n",
       "      <th>AC</th>\n",
       "      <th>SALEDATE</th>\n",
       "      <th>QUALIFIED</th>\n",
       "      <th>STYLE</th>\n",
       "      <th>STRUCT</th>\n",
       "      <th>GRADE</th>\n",
       "      <th>CNDTN</th>\n",
       "      <th>EXTWALL</th>\n",
       "      <th>ROOF</th>\n",
       "      <th>...</th>\n",
       "      <th>SOURCE</th>\n",
       "      <th>FULLADDRESS</th>\n",
       "      <th>CITY</th>\n",
       "      <th>STATE</th>\n",
       "      <th>NATIONALGRID</th>\n",
       "      <th>ASSESSMENT_NBHD</th>\n",
       "      <th>ASSESSMENT_SUBNBHD</th>\n",
       "      <th>CENSUS_BLOCK</th>\n",
       "      <th>WARD</th>\n",
       "      <th>QUADRANT</th>\n",
       "    </tr>\n",
       "  </thead>\n",
       "  <tbody>\n",
       "    <tr>\n",
       "      <th>0</th>\n",
       "      <td>125609</td>\n",
       "      <td>125702</td>\n",
       "      <td>85058</td>\n",
       "      <td>125643</td>\n",
       "      <td>92729</td>\n",
       "      <td>125649</td>\n",
       "      <td>125678</td>\n",
       "      <td>125678</td>\n",
       "      <td>125568</td>\n",
       "      <td>125555</td>\n",
       "      <td>...</td>\n",
       "      <td>125645</td>\n",
       "      <td>18317</td>\n",
       "      <td>125682</td>\n",
       "      <td>125577</td>\n",
       "      <td>33683</td>\n",
       "      <td>125636</td>\n",
       "      <td>3868</td>\n",
       "      <td>1655</td>\n",
       "      <td>125686</td>\n",
       "      <td>125629</td>\n",
       "    </tr>\n",
       "    <tr>\n",
       "      <th>1</th>\n",
       "      <td>125609</td>\n",
       "      <td>125702</td>\n",
       "      <td>83385</td>\n",
       "      <td>125643</td>\n",
       "      <td>102182</td>\n",
       "      <td>125649</td>\n",
       "      <td>125678</td>\n",
       "      <td>125601</td>\n",
       "      <td>125568</td>\n",
       "      <td>125555</td>\n",
       "      <td>...</td>\n",
       "      <td>125645</td>\n",
       "      <td>17334</td>\n",
       "      <td>125682</td>\n",
       "      <td>125577</td>\n",
       "      <td>33959</td>\n",
       "      <td>125636</td>\n",
       "      <td>3868</td>\n",
       "      <td>1655</td>\n",
       "      <td>125686</td>\n",
       "      <td>125629</td>\n",
       "    </tr>\n",
       "    <tr>\n",
       "      <th>2</th>\n",
       "      <td>125693</td>\n",
       "      <td>125702</td>\n",
       "      <td>83796</td>\n",
       "      <td>125643</td>\n",
       "      <td>80543</td>\n",
       "      <td>125649</td>\n",
       "      <td>125537</td>\n",
       "      <td>125678</td>\n",
       "      <td>125667</td>\n",
       "      <td>125623</td>\n",
       "      <td>...</td>\n",
       "      <td>125645</td>\n",
       "      <td>17734</td>\n",
       "      <td>125682</td>\n",
       "      <td>125577</td>\n",
       "      <td>33961</td>\n",
       "      <td>125636</td>\n",
       "      <td>3868</td>\n",
       "      <td>1654</td>\n",
       "      <td>125686</td>\n",
       "      <td>125629</td>\n",
       "    </tr>\n",
       "    <tr>\n",
       "      <th>3</th>\n",
       "      <td>125693</td>\n",
       "      <td>125702</td>\n",
       "      <td>83557</td>\n",
       "      <td>125643</td>\n",
       "      <td>80543</td>\n",
       "      <td>125649</td>\n",
       "      <td>125537</td>\n",
       "      <td>125678</td>\n",
       "      <td>125568</td>\n",
       "      <td>125623</td>\n",
       "      <td>...</td>\n",
       "      <td>125645</td>\n",
       "      <td>17860</td>\n",
       "      <td>125682</td>\n",
       "      <td>125577</td>\n",
       "      <td>33919</td>\n",
       "      <td>125636</td>\n",
       "      <td>3868</td>\n",
       "      <td>1654</td>\n",
       "      <td>125686</td>\n",
       "      <td>125629</td>\n",
       "    </tr>\n",
       "    <tr>\n",
       "      <th>4</th>\n",
       "      <td>125609</td>\n",
       "      <td>125702</td>\n",
       "      <td>81023</td>\n",
       "      <td>125643</td>\n",
       "      <td>80543</td>\n",
       "      <td>125649</td>\n",
       "      <td>125602</td>\n",
       "      <td>125601</td>\n",
       "      <td>125568</td>\n",
       "      <td>125555</td>\n",
       "      <td>...</td>\n",
       "      <td>125645</td>\n",
       "      <td>18132</td>\n",
       "      <td>125682</td>\n",
       "      <td>125577</td>\n",
       "      <td>33851</td>\n",
       "      <td>125636</td>\n",
       "      <td>3868</td>\n",
       "      <td>1654</td>\n",
       "      <td>125686</td>\n",
       "      <td>125629</td>\n",
       "    </tr>\n",
       "  </tbody>\n",
       "</table>\n",
       "<p>5 rows × 22 columns</p>\n",
       "</div>"
      ],
      "text/plain": [
       "     HEAT      AC  SALEDATE  QUALIFIED   STYLE  STRUCT   GRADE   CNDTN  \\\n",
       "0  125609  125702     85058     125643   92729  125649  125678  125678   \n",
       "1  125609  125702     83385     125643  102182  125649  125678  125601   \n",
       "2  125693  125702     83796     125643   80543  125649  125537  125678   \n",
       "3  125693  125702     83557     125643   80543  125649  125537  125678   \n",
       "4  125609  125702     81023     125643   80543  125649  125602  125601   \n",
       "\n",
       "   EXTWALL    ROOF    ...     SOURCE  FULLADDRESS    CITY   STATE  \\\n",
       "0   125568  125555    ...     125645        18317  125682  125577   \n",
       "1   125568  125555    ...     125645        17334  125682  125577   \n",
       "2   125667  125623    ...     125645        17734  125682  125577   \n",
       "3   125568  125623    ...     125645        17860  125682  125577   \n",
       "4   125568  125555    ...     125645        18132  125682  125577   \n",
       "\n",
       "   NATIONALGRID  ASSESSMENT_NBHD  ASSESSMENT_SUBNBHD  CENSUS_BLOCK    WARD  \\\n",
       "0         33683           125636                3868          1655  125686   \n",
       "1         33959           125636                3868          1655  125686   \n",
       "2         33961           125636                3868          1654  125686   \n",
       "3         33919           125636                3868          1654  125686   \n",
       "4         33851           125636                3868          1654  125686   \n",
       "\n",
       "   QUADRANT  \n",
       "0    125629  \n",
       "1    125629  \n",
       "2    125629  \n",
       "3    125629  \n",
       "4    125629  \n",
       "\n",
       "[5 rows x 22 columns]"
      ]
     },
     "execution_count": 24,
     "metadata": {},
     "output_type": "execute_result"
    }
   ],
   "source": [
    "strings = np.array([])\n",
    "for c in object_columns.columns:\n",
    "    strings = np.append(strings, pd.unique(object_columns[c].values))\n",
    "\n",
    "for c in test_object_columns.columns:\n",
    "    strings = np.append(strings, pd.unique(test_object_columns[c].values))\n",
    "\n",
    "print(len(strings), 'distinct labels generated')\n",
    "\n",
    "labeler = LabelEncoder()\n",
    "labeler.fit(strings.astype(\"str\"))\n",
    "\n",
    "for c in object_columns.columns:\n",
    "    object_columns.loc[:,c] = labeler.transform(object_columns.loc[:,c])\n",
    "    test_object_columns.loc[:,c] = labeler.transform(test_object_columns.loc[:,c])\n",
    "\n",
    "object_columns[0:5]"
   ]
  },
  {
   "cell_type": "code",
   "execution_count": 25,
   "metadata": {
    "_uuid": "b8bc3f26c68681b09c4de60fc0b247f4a39c4892"
   },
   "outputs": [
    {
     "data": {
      "text/plain": [
       "array([125645, 125574])"
      ]
     },
     "execution_count": 25,
     "metadata": {},
     "output_type": "execute_result"
    }
   ],
   "source": [
    "#object_columns.SOURCE.unique()\n",
    "test_object_columns.SOURCE.unique()"
   ]
  },
  {
   "cell_type": "code",
   "execution_count": 26,
   "metadata": {
    "_uuid": "6e926d5b17ed019dcc87f12e17134e8d8f57ca03"
   },
   "outputs": [
    {
     "name": "stdout",
     "output_type": "stream",
     "text": [
      "HEAT                  0.043877\n",
      "AC                    0.006000\n",
      "SALEDATE              0.424940\n",
      "QUALIFIED            -0.143274\n",
      "STYLE                -0.023896\n",
      "STRUCT                0.110983\n",
      "GRADE                 0.203400\n",
      "CNDTN                 0.201421\n",
      "EXTWALL              -0.038346\n",
      "ROOF                  0.084217\n",
      "INTWALL              -0.049569\n",
      "GIS_LAST_MOD_DTTM     0.074413\n",
      "SOURCE                0.074413\n",
      "FULLADDRESS          -0.041676\n",
      "CITY                  0.074438\n",
      "STATE                -0.074438\n",
      "NATIONALGRID         -0.184389\n",
      "ASSESSMENT_NBHD      -0.007804\n",
      "ASSESSMENT_SUBNBHD    0.085208\n",
      "CENSUS_BLOCK         -0.078892\n",
      "WARD                 -0.312115\n",
      "QUADRANT             -0.220797\n",
      "BATHRM                0.420796\n",
      "HF_BATHRM             0.256117\n",
      "NUM_UNITS             0.067921\n",
      "ROOMS                 0.232533\n",
      "BEDRM                 0.256575\n",
      "AYB                   0.008895\n",
      "YR_RMDL               0.131922\n",
      "EYB                   0.223269\n",
      "STORIES               0.109864\n",
      "SALE_NUM              0.239483\n",
      "GBA                   0.104436\n",
      "BLDG_NUM              0.017950\n",
      "KITCHENS              0.083939\n",
      "FIREPLACES            0.341968\n",
      "USECODE              -0.015855\n",
      "LANDAREA              0.107800\n",
      "CMPLX_NUM            -0.058081\n",
      "LIVING_GBA           -0.055915\n",
      "ZIPCODE              -0.118853\n",
      "LATITUDE              0.234660\n",
      "LONGITUDE            -0.381570\n",
      "CENSUS_TRACT         -0.307884\n",
      "PRICE                 1.000000\n",
      "Name: PRICE, dtype: float64\n"
     ]
    },
    {
     "data": {
      "text/plain": [
       "Index(['HEAT', 'AC', 'SALEDATE', 'QUALIFIED', 'STYLE', 'STRUCT', 'GRADE',\n",
       "       'CNDTN', 'EXTWALL', 'ROOF', 'INTWALL', 'GIS_LAST_MOD_DTTM', 'SOURCE',\n",
       "       'FULLADDRESS', 'CITY', 'STATE', 'NATIONALGRID', 'ASSESSMENT_NBHD',\n",
       "       'ASSESSMENT_SUBNBHD', 'CENSUS_BLOCK', 'WARD', 'QUADRANT', 'BATHRM',\n",
       "       'HF_BATHRM', 'NUM_UNITS', 'ROOMS', 'BEDRM', 'AYB', 'YR_RMDL', 'EYB',\n",
       "       'STORIES', 'SALE_NUM', 'GBA', 'BLDG_NUM', 'KITCHENS', 'FIREPLACES',\n",
       "       'USECODE', 'LANDAREA', 'CMPLX_NUM', 'LIVING_GBA', 'ZIPCODE', 'LATITUDE',\n",
       "       'LONGITUDE', 'CENSUS_TRACT', 'PRICE'],\n",
       "      dtype='object')"
      ]
     },
     "execution_count": 26,
     "metadata": {},
     "output_type": "execute_result"
    }
   ],
   "source": [
    "# final train dataset\n",
    "train_ds = object_columns.join(numeric_columns)\n",
    "train_ds[\"PRICE\"] = np.log1p(train_ds[\"PRICE\"])\n",
    "\n",
    "# separate with \"SOURCE\"\n",
    "#train_ds = train_ds[train_ds[\"SOURCE\"] == 125645] \n",
    "#train_ds = train_ds[train_ds[\"SOURCE\"] == 125574] \n",
    "# test dataset\n",
    "test_ds = test_object_columns.join(test_numeric_columns)\n",
    "#test_ds = test_ds[test_ds[\"SOURCE\"] == 125645] \n",
    "#test_ds = test_ds[test_ds[\"SOURCE\"] == 125574] \n",
    "#correlation matrix\n",
    "corrmat = train_ds.corr()['PRICE']\n",
    "print(corrmat)\n",
    "#f, ax = plt.subplots(figsize=(12, 9))\n",
    "#sns.heatmap(corrmat, vmax=.8, square=True);\n",
    "\n",
    "best_columns = corrmat[abs(corrmat) > 0.0].index\n",
    "train_ds = train_ds[best_columns]\n",
    "test_ds = test_ds[best_columns.drop('PRICE')]\n",
    "best_columns"
   ]
  },
  {
   "cell_type": "code",
   "execution_count": 27,
   "metadata": {
    "_uuid": "53060d55104e9a032268ee0dcac27a60432e567f"
   },
   "outputs": [
    {
     "name": "stdout",
     "output_type": "stream",
     "text": [
      "Training set features shape (49108, 44)\n",
      "Training set labels shape (49108, 1)\n",
      "Test set shape (49108, 44)\n"
     ]
    }
   ],
   "source": [
    "X_train = (train_ds.values[:,:-1])\n",
    "y_train = np.asarray([[t] for t in (train_ds.values[:,-1])])\n",
    "X_test = test_ds.values\n",
    "\n",
    "print('Training set features shape', X_train.shape)\n",
    "print('Training set labels shape', y_train.shape)\n",
    "print('Test set shape', test_ds.shape)"
   ]
  },
  {
   "cell_type": "code",
   "execution_count": 28,
   "metadata": {
    "_uuid": "7a200d7e95d1b58bab46d1f013db1af9a8bea091",
    "collapsed": true
   },
   "outputs": [],
   "source": [
    "from sklearn.preprocessing import RobustScaler\n",
    "transformer = RobustScaler().fit(X_train)\n",
    "X_train = pd.DataFrame(transformer.transform(X_train))\n",
    "X_test = pd.DataFrame(transformer.transform(X_test))"
   ]
  },
  {
   "cell_type": "code",
   "execution_count": null,
   "metadata": {
    "_uuid": "b4264e1f7afdc4b8238a9d8981560f280794f80b",
    "collapsed": true
   },
   "outputs": [],
   "source": []
  },
  {
   "cell_type": "code",
   "execution_count": 29,
   "metadata": {
    "_uuid": "8c8d2bfd5e8301db389812fdcb5d37f33dabe5b8",
    "collapsed": true
   },
   "outputs": [],
   "source": [
    "def train_model(depth, learning_rate, n_estimators, model_type=\"xgb\"):\n",
    "    if model_type == 'xgb':\n",
    "        model = xgb.XGBRegressor(colsample_bytree=0.4603, gamma=0.0468, \n",
    "                                 learning_rate=learning_rate, max_depth=depth, \n",
    "                                 min_child_weight=1.7817, n_estimators=n_estimators,\n",
    "                                 reg_alpha=0.4640, reg_lambda=0.8571,\n",
    "                                 subsample=0.5213, silent=1,\n",
    "                                 random_state =7, nthread = -1)\n",
    "    if model_type == 'lgb':\n",
    "        model = lgb.LGBMRegressor(colsample_bytree=0.4603, min_gain_to_split=0.0468, \n",
    "                                 learning_rate=learning_rate, max_depth=depth, \n",
    "                                 min_child_weight=1.7817, n_estimators=n_estimators,\n",
    "                                 reg_alpha=0.4640, reg_lambda=0.8571,\n",
    "                                 subsample=0.5213, silent=1,\n",
    "                                 random_state =7, nthread = -1)\n",
    "        \n",
    "    score = rmsle_cv(model)\n",
    "    print(model_type, \" score: depth={:d} lr={:.2f} est={:d} -> mean:{:.5f} std:{:.4f}\".format(depth, learning_rate, n_estimators, score.mean(), score.std()))\n",
    "    return score\n",
    "\n",
    "#Validation function\n",
    "n_folds = 5\n",
    "\n",
    "def rmsle_cv(model):\n",
    "    kf = KFold(n_folds, shuffle=True, random_state=42).get_n_splits(train)\n",
    "    rmse= np.sqrt(-cross_val_score(model, X_train, y_train.flatten(), scoring=\"neg_mean_squared_error\", cv = kf))\n",
    "    return(rmse)\n",
    "\n",
    "\n",
    "def rmsle(y, y_pred):\n",
    "    return np.sqrt(mean_squared_error(y, y_pred))"
   ]
  },
  {
   "cell_type": "markdown",
   "metadata": {
    "_uuid": "9f4ed5f2ddba8a47489a5e331a35cc3282cf395f"
   },
   "source": [
    "result = []\n",
    "for depth in range(3, 5):\n",
    "    for learning_rate in range(10, 20, 2):\n",
    "        for n_estimators in range(4000, 5000, 500):\n",
    "            score = train_model(depth, learning_rate/100, n_estimators, model_type='lgb')\n",
    "            result.append([depth, learning_rate/100, n_estimators, score.mean(), score.std()])"
   ]
  },
  {
   "cell_type": "markdown",
   "metadata": {
    "_uuid": "b92d84b5e4fa7ef3ef37d2292e9cacd39edfd6cf"
   },
   "source": [
    "# check results\n",
    "result = pd.DataFrame(result, columns=['depth', 'learning_rate', 'n_estimators', 'score_mean', 'score_std'])\n",
    "result.describe()"
   ]
  },
  {
   "cell_type": "markdown",
   "metadata": {
    "_uuid": "b838c156d062bc82b1c551c367ac7188da390cd6"
   },
   "source": [
    "best = np.argmin(result['score_mean'].values)\n",
    "print('Best params = \\n', result.iloc[best])"
   ]
  },
  {
   "cell_type": "code",
   "execution_count": 30,
   "metadata": {
    "_uuid": "3ece27cb6941092481f88caad90267dd0592e4fd"
   },
   "outputs": [
    {
     "name": "stdout",
     "output_type": "stream",
     "text": [
      "RMSLE LGB =  0.307134505640744\n"
     ]
    }
   ],
   "source": [
    "# train with the best parameters\n",
    "'''\n",
    "depth = int(result.iloc[best]['depth'])\n",
    "learning_rate = result.iloc[best]['learning_rate']\n",
    "n_estimators = int(result.iloc[best]['n_estimators'])\n",
    "'''\n",
    "\n",
    "#depth = 5\n",
    "#learning_rate = 0.5\n",
    "#n_estimators = 5000\n",
    "\n",
    "'''\n",
    "model_lgb = lgb.LGBMRegressor(colsample_bytree=0.4603,learning_rate=learning_rate, max_depth=depth, \n",
    "                         min_child_weight=1.7817, n_estimators=n_estimators,\n",
    "                         reg_alpha=0.4640, reg_lambda=0.8571,\n",
    "                         subsample=0.5213, silent=1,\n",
    "                         random_state =7, nthread = -1)\n",
    "'''\n",
    "model_lgb = lgb.LGBMRegressor(silent=1,\n",
    "                         random_state =7, nthread = -1)\n",
    "\n",
    "#score = rmsle_cv(model_lgb)\n",
    "#print(\"lgb score: depth={:d} lr={:.2f} est={:d} -> mean:{:.5f} std:{:.4f}\".format(depth, learning_rate, n_estimators, score.mean(), score.std()))\n",
    "\n",
    "model_lgb.fit(X_train, y_train.flatten())\n",
    "y_pred = model_lgb.predict(X_train)\n",
    "\n",
    "print('RMSLE LGB = ', rmsle(y_train, y_pred))"
   ]
  },
  {
   "cell_type": "code",
   "execution_count": 31,
   "metadata": {
    "_uuid": "deeef29a8243de1961f76eaeeda652477d197868"
   },
   "outputs": [
    {
     "name": "stdout",
     "output_type": "stream",
     "text": [
      "LGBMRegressor(boosting_type='gbdt', class_weight=None, colsample_bytree=1.0,\n",
      "       importance_type='split', learning_rate=0.1, max_depth=-1,\n",
      "       min_child_samples=20, min_child_weight=0.001, min_split_gain=0.0,\n",
      "       n_estimators=100, n_jobs=-1, nthread=-1, num_leaves=31,\n",
      "       objective=None, random_state=7, reg_alpha=0.0, reg_lambda=0.0,\n",
      "       silent=1, subsample=1.0, subsample_for_bin=200000, subsample_freq=0)\n"
     ]
    }
   ],
   "source": [
    "print(model_lgb)"
   ]
  },
  {
   "cell_type": "code",
   "execution_count": 32,
   "metadata": {
    "_uuid": "8257cb30897da8d95a5136f66c329a4620d30588",
    "collapsed": true
   },
   "outputs": [],
   "source": [
    "param_grid = {\n",
    "    'learning_rate': [0.1, 0.3, 0.5, 0.7],\n",
    "    'n_estimators': [1000,2000,3000]\n",
    "}\n",
    "\n",
    "gbm = GridSearchCV(model_lgb, param_grid, cv=5)"
   ]
  },
  {
   "cell_type": "code",
   "execution_count": null,
   "metadata": {
    "_uuid": "4ad1b9d6a5dfd808e1eea14bd30ba0af22158f44",
    "collapsed": true
   },
   "outputs": [],
   "source": [
    "gbm.fit(X_train, y_train.flatten())\n",
    "\n",
    "print('Best parameters found by grid search are:', gbm.best_params_)"
   ]
  },
  {
   "cell_type": "code",
   "execution_count": null,
   "metadata": {
    "_uuid": "fb5bd25181cc536c42f4602892af6aea992518bd",
    "collapsed": true
   },
   "outputs": [],
   "source": [
    "plt.scatter(np.expm1(y_train), np.expm1(y_pred))\n",
    "plt.xlim(0, 100_000_000)\n",
    "plt.ylim(0, 100_000_000)\n",
    "plt.xlabel('actual')\n",
    "plt.ylabel('predicted')\n",
    "plt.grid()\n",
    "plt.plot([(0, 0), (10_000_000, 10_000_000)], [(0, 0), (10_000_000, 10_000_000)])\n",
    "plt.show()"
   ]
  },
  {
   "cell_type": "code",
   "execution_count": null,
   "metadata": {
    "_uuid": "d3be49e4dccf70a939bb85be835548e661b2046b",
    "collapsed": true,
    "scrolled": false
   },
   "outputs": [],
   "source": [
    "predictors = [x for x in train_ds.columns if x not in [\"PRICE\", \"Id\"]]\n",
    "feat_imp = pd.Series(model_lgb.feature_importances_, predictors).sort_values(ascending=False)\n",
    "sns.set_palette(\"husl\")\n",
    "sns.barplot(feat_imp.head(10).index, feat_imp.head(10).values)\n",
    "plt.title('Top10 Feature Importances')\n",
    "plt.ylabel('Feature Importance Score')\n",
    "plt.xticks(rotation=60)\n",
    "plt.show()\n",
    "print(X_train.head())"
   ]
  },
  {
   "cell_type": "code",
   "execution_count": null,
   "metadata": {
    "_uuid": "abeb4803f1f58dca4b85ec95cd8f2219a6afed4c",
    "collapsed": true
   },
   "outputs": [],
   "source": [
    "result = []\n",
    "for depth in range(3, 5):\n",
    "    for learning_rate in range(3, 5, 1):\n",
    "        for n_estimators in range(1200, 2000, 200):\n",
    "            score = train_model(depth, learning_rate/100, n_estimators, model_type='xgb')\n",
    "            result.append([depth, learning_rate/100, n_estimators, score.mean(), score.std()])"
   ]
  },
  {
   "cell_type": "markdown",
   "metadata": {
    "_uuid": "51e245b61ab6e1220b03891c8b1355f422f1eee5"
   },
   "source": [
    "# check results\n",
    "result = pd.DataFrame(result, columns=['depth', 'learning_rate', 'n_estimators', 'score_mean', 'score_std'])\n",
    "result.describe()"
   ]
  },
  {
   "cell_type": "markdown",
   "metadata": {
    "_uuid": "1565da9285ae21c8e67d43bf224484a19a7f8fe7"
   },
   "source": [
    "best = np.argmin(result['score_mean'].values)\n",
    "print('Best params = \\n', result.iloc[best])"
   ]
  },
  {
   "cell_type": "code",
   "execution_count": null,
   "metadata": {
    "_uuid": "6189d87b0addab89acb22229bc55b2f151e55094",
    "collapsed": true
   },
   "outputs": [],
   "source": [
    "# train with the best parameters\n",
    "'''\n",
    "depth = int(result.iloc[best]['depth'])\n",
    "learning_rate = result.iloc[best]['learning_rate']\n",
    "n_estimators = int(result.iloc[best]['n_estimators'])\n",
    "'''\n",
    "\n",
    "depth = 5\n",
    "learning_rate = 1.0\n",
    "n_estimators = 5000\n",
    "model_xgb = xgb.XGBRegressor(learning_rate=learning_rate, max_depth=depth, \n",
    "                         min_child_weight=1.7817, n_estimators=n_estimators,silent=1,\n",
    "                         random_state =7, nthread = -1)\n",
    "\n",
    "\n",
    "\n",
    "score = rmsle_cv(model_xgb)\n",
    "print(\"XGB score: depth={:d} lr={:.2f} est={:d} -> mean:{:.5f} std:{:.4f}\".format(depth, learning_rate, n_estimators, score.mean(), score.std()))\n",
    "\n",
    "model_xgb.fit(X_train, y_train.flatten())\n",
    "y_pred = model_xgb.predict(X_train)\n",
    "\n",
    "print('RMSLE XGB = ', rmsle(y_train, y_pred))"
   ]
  },
  {
   "cell_type": "code",
   "execution_count": null,
   "metadata": {
    "_uuid": "d6ed58cc26cd0b49f22bc6839919eeb74682ae0f",
    "collapsed": true
   },
   "outputs": [],
   "source": [
    "plt.scatter(np.expm1(y_train), np.expm1(y_pred))\n",
    "plt.xlim(0, 100_000_000)\n",
    "plt.ylim(0, 100_000_000)\n",
    "plt.xlabel('actual')\n",
    "plt.ylabel('predicted')\n",
    "plt.grid()\n",
    "plt.plot([(0, 0), (10_000_000, 10_000_000)], [(0, 0), (10_000_000, 10_000_000)])\n",
    "plt.show()"
   ]
  },
  {
   "cell_type": "code",
   "execution_count": null,
   "metadata": {
    "_uuid": "08eb63a9a0fa25eceb6a7c016b04159565445126",
    "collapsed": true
   },
   "outputs": [],
   "source": [
    "predictors = [x for x in train_ds.columns if x not in [\"PRICE\", \"Id\"]]\n",
    "feat_imp = pd.Series(model_xgb.feature_importances_, predictors).sort_values(ascending=False)\n",
    "sns.set_palette(\"husl\")\n",
    "sns.barplot(feat_imp.head(10).index, feat_imp.head(10).values)\n",
    "plt.title('Top10 Feature Importances')\n",
    "plt.ylabel('Feature Importance Score')\n",
    "plt.xticks(rotation=60)\n",
    "plt.show()\n",
    "print(X_train.head())"
   ]
  },
  {
   "cell_type": "code",
   "execution_count": null,
   "metadata": {
    "_uuid": "40bd6c3286f840c4d27d5bfc058de38fdd9ba4d6",
    "collapsed": true,
    "scrolled": false
   },
   "outputs": [],
   "source": [
    "avg_predict = (model_lgb.predict(X_train) + model_xgb.predict(X_train)) / 2\n",
    "y_pred = avg_predict\n",
    "\n",
    "plt.figure(figsize=(8, 8))\n",
    "plt.scatter(np.expm1(y_train), np.expm1(y_pred))\n",
    "plt.xlim(0, 200_000_000)\n",
    "plt.ylim(0, 200_000_000)\n",
    "plt.xlabel('actual', fontsize=26)\n",
    "plt.ylabel('predicted', fontsize=26)\n",
    "plt.plot([(0, 0), (10_000_000, 10_000_000)], [(0, 0), (10_000_000, 10_000_000)])\n",
    "plt.show()\n",
    "\n",
    "print('RMSLE averaged = ', rmsle(y_train, y_pred))"
   ]
  },
  {
   "cell_type": "code",
   "execution_count": null,
   "metadata": {
    "_uuid": "d03f1d94cfaafeebcf253e57098843deee750ab7",
    "collapsed": true
   },
   "outputs": [],
   "source": [
    "# Submission\n",
    "print(np.expm1(model_xgb.predict(X_test)[0:5]))\n",
    "print(np.expm1(model_lgb.predict(X_test)[0:5]))\n",
    "avg_predict = (model_xgb.predict(X_test) + model_lgb.predict(X_test)) / 2\n",
    "subm_predict = np.expm1(avg_predict)\n",
    "\n",
    "dsubm_predict = pd.DataFrame()\n",
    "dsubm_predict['Id'] = test.values[:,0]\n",
    "dsubm_predict[\"PRICE\"] = pd.DataFrame(subm_predict)\n",
    "\n",
    "dsubm_predict.to_csv('submission.csv', index=False)\n",
    "dsubm_predict[0:10]"
   ]
  },
  {
   "cell_type": "code",
   "execution_count": null,
   "metadata": {
    "_uuid": "4fff9fcb2e88562a1a9aa4b62257a77431d12505",
    "collapsed": true
   },
   "outputs": [],
   "source": [
    "dsubm_predict"
   ]
  },
  {
   "cell_type": "code",
   "execution_count": null,
   "metadata": {
    "_uuid": "c4e186c1e76b8430cc4c5312149c63d723ccc6ff",
    "collapsed": true
   },
   "outputs": [],
   "source": []
  }
 ],
 "metadata": {
  "kernelspec": {
   "display_name": "Python 3",
   "language": "python",
   "name": "python3"
  },
  "language_info": {
   "codemirror_mode": {
    "name": "ipython",
    "version": 3
   },
   "file_extension": ".py",
   "mimetype": "text/x-python",
   "name": "python",
   "nbconvert_exporter": "python",
   "pygments_lexer": "ipython3",
   "version": "3.6.2"
  }
 },
 "nbformat": 4,
 "nbformat_minor": 1
}
