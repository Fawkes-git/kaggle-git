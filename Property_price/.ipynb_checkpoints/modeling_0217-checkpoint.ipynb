{
 "cells": [
  {
   "cell_type": "code",
   "execution_count": 1,
   "metadata": {
    "_cell_guid": "b1076dfc-b9ad-4769-8c92-a6c4dae69d19",
    "_uuid": "8f2839f25d086af736a60e9eeb907d3b93b6e0e5"
   },
   "outputs": [
    {
     "name": "stderr",
     "output_type": "stream",
     "text": [
      "/Users/takato/.pyenv/versions/anaconda3-5.0.0/lib/python3.6/site-packages/h5py/__init__.py:34: FutureWarning: Conversion of the second argument of issubdtype from `float` to `np.floating` is deprecated. In future, it will be treated as `np.float64 == np.dtype(float).type`.\n",
      "  from ._conv import register_converters as _register_converters\n",
      "Using TensorFlow backend.\n",
      "/Users/takato/.pyenv/versions/anaconda3-5.0.0/lib/python3.6/site-packages/lightgbm/__init__.py:46: UserWarning: Starting from version 2.2.1, the library file in distribution wheels for macOS is built by the Apple Clang (Xcode_8.3.1) compiler.\n",
      "This means that in case of installing LightGBM from PyPI via the ``pip install lightgbm`` command, you don't need to install the gcc compiler anymore.\n",
      "Instead of that, you need to install the OpenMP library, which is required for running LightGBM on the system with the Apple Clang compiler.\n",
      "You can install the OpenMP library by the following command: ``brew install libomp``.\n",
      "  \"You can install the OpenMP library by the following command: ``brew install libomp``.\", UserWarning)\n"
     ]
    }
   ],
   "source": [
    "import math\n",
    "import pandas as pd\n",
    "import numpy as np\n",
    "from scipy.stats import stats, norm, skew\n",
    "import seaborn as sns\n",
    "import matplotlib\n",
    "import matplotlib.pyplot as plt\n",
    "import matplotlib.image as mpimg\n",
    "from sklearn import preprocessing\n",
    "from sklearn.metrics import confusion_matrix, mean_squared_error\n",
    "from sklearn.model_selection import train_test_split\n",
    "from sklearn.linear_model import LinearRegression\n",
    "from sklearn.model_selection import KFold\n",
    "from sklearn.preprocessing import StandardScaler, MinMaxScaler, LabelEncoder\n",
    "from sklearn.model_selection import KFold, cross_val_score, train_test_split\n",
    "from keras.models import Sequential\n",
    "from keras.callbacks import ModelCheckpoint\n",
    "from keras.layers import Dense, Dropout, Flatten, Conv2D, MaxPool2D\n",
    "from keras.utils.np_utils import to_categorical\n",
    "from keras.wrappers.scikit_learn import KerasRegressor\n",
    "from scipy.special import boxcox1p\n",
    "import lightgbm as lgb\n",
    "import xgboost as xgb\n",
    "from fastprogress import master_bar, progress_bar\n",
    "from sklearn.svm import SVC\n",
    "from sklearn.model_selection import train_test_split, GridSearchCV\n",
    "\n",
    "%matplotlib inline\n",
    "np.random.seed(2)\n",
    "plt.style.use('ggplot') \n",
    "matplotlib.rcParams['figure.figsize'] = (10,10)\n",
    "plt.rcParams['font.size'] = 20 #font size\n",
    "plt.rcParams['axes.linewidth'] = 1.5 #axis setting"
   ]
  },
  {
   "cell_type": "code",
   "execution_count": 2,
   "metadata": {
    "_cell_guid": "79c7e3d0-c299-4dcb-8224-4455121ee9b0",
    "_uuid": "d629ff2d2480ee46fbb7e2d37f6b5fab8052498a"
   },
   "outputs": [
    {
     "name": "stderr",
     "output_type": "stream",
     "text": [
      "/Users/takato/.pyenv/versions/anaconda3-5.0.0/lib/python3.6/site-packages/IPython/core/interactiveshell.py:2698: DtypeWarning: Columns (43) have mixed types. Specify dtype option on import or set low_memory=False.\n",
      "  interactivity=interactivity, compiler=compiler, result=result)\n"
     ]
    },
    {
     "name": "stdout",
     "output_type": "stream",
     "text": [
      "(97839, 187)\n",
      "(49108, 187)\n"
     ]
    },
    {
     "name": "stderr",
     "output_type": "stream",
     "text": [
      "/Users/takato/.pyenv/versions/anaconda3-5.0.0/lib/python3.6/site-packages/IPython/core/interactiveshell.py:2698: DtypeWarning: Columns (44) have mixed types. Specify dtype option on import or set low_memory=False.\n",
      "  interactivity=interactivity, compiler=compiler, result=result)\n"
     ]
    }
   ],
   "source": [
    "# Load the data\n",
    "train = pd.read_csv(\"./train_radius.csv\")\n",
    "test = pd.read_csv(\"./test_radius.csv\")\n",
    "print(train.shape)\n",
    "print(test.shape)"
   ]
  },
  {
   "cell_type": "code",
   "execution_count": 3,
   "metadata": {
    "_uuid": "d78ba4a279f81c6e5356b862224499af3311cece"
   },
   "outputs": [
    {
     "data": {
      "text/plain": [
       "Index(['BATHRM', 'HF_BATHRM', 'HEAT', 'AC', 'NUM_UNITS', 'ROOMS', 'BEDRM',\n",
       "       'AYB', 'YR_RMDL', 'EYB',\n",
       "       ...\n",
       "       'FAGI_MEDIAN_2014_density', 'FAGI_TOTAL_2015_density',\n",
       "       'FAGI_MEDIAN_2015_density', 'RADIUS', 'GBA_ROOMS', 'LIVING_GBA_ROOMS',\n",
       "       'LANDAREA_ROOMS', 'ALLROOMS', 'NOROOM', 'PRICE'],\n",
       "      dtype='object', length=184)"
      ]
     },
     "execution_count": 3,
     "metadata": {},
     "output_type": "execute_result"
    }
   ],
   "source": [
    "train = train.drop([\"SQUARE\",\"X\",\"Y\"], axis=1)\n",
    "test = test.drop([\"SQUARE\",\"X\",\"Y\"], axis=1)\n",
    "\n",
    "train[\"GBA\"] = np.log1p(train[\"GBA\"])\n",
    "test[\"GBA\"] = np.log1p(test[\"GBA\"])\n",
    "train[\"LIVING_GBA\"] = np.log1p(train[\"LIVING_GBA\"])\n",
    "test[\"LIVING_GBA\"] = np.log1p(test[\"LIVING_GBA\"])\n",
    "\n",
    "train.columns"
   ]
  },
  {
   "cell_type": "code",
   "execution_count": 4,
   "metadata": {
    "_uuid": "a1241b9b573a8f6115980ac330948c2bbe5620ed"
   },
   "outputs": [
    {
     "data": {
      "text/plain": [
       "BATHRM                        int64\n",
       "HF_BATHRM                     int64\n",
       "HEAT                         object\n",
       "AC                           object\n",
       "NUM_UNITS                   float64\n",
       "ROOMS                         int64\n",
       "BEDRM                         int64\n",
       "AYB                         float64\n",
       "YR_RMDL                     float64\n",
       "EYB                           int64\n",
       "STORIES                     float64\n",
       "SALEDATE                     object\n",
       "QUALIFIED                    object\n",
       "SALE_NUM                      int64\n",
       "GBA                         float64\n",
       "BLDG_NUM                      int64\n",
       "STYLE                        object\n",
       "STRUCT                       object\n",
       "GRADE                        object\n",
       "CNDTN                        object\n",
       "EXTWALL                      object\n",
       "ROOF                         object\n",
       "INTWALL                      object\n",
       "KITCHENS                    float64\n",
       "FIREPLACES                    int64\n",
       "USECODE                       int64\n",
       "LANDAREA                      int64\n",
       "GIS_LAST_MOD_DTTM            object\n",
       "SOURCE                       object\n",
       "CMPLX_NUM                   float64\n",
       "                             ...   \n",
       "OP000013_density            float64\n",
       "OP000014_density            float64\n",
       "OP000015_density            float64\n",
       "OP000016_density            float64\n",
       "H0010001_density            float64\n",
       "H0010002_density            float64\n",
       "H0010003_density            float64\n",
       "ACRES_density               float64\n",
       "SQ_MILES_density            float64\n",
       "Shape_Length_density        float64\n",
       "Shape_Area_density          float64\n",
       "FAGI_TOTAL_2010_density     float64\n",
       "FAGI_MEDIAN_2010_density    float64\n",
       "FAGI_TOTAL_2013_density     float64\n",
       "FAGI_MEDIAN_2013_density    float64\n",
       "FAGI_TOTAL_2011_density     float64\n",
       "FAGI_MEDIAN_2011_density    float64\n",
       "FAGI_TOTAL_2012_density     float64\n",
       "FAGI_MEDIAN_2012_density    float64\n",
       "FAGI_TOTAL_2014_density     float64\n",
       "FAGI_MEDIAN_2014_density    float64\n",
       "FAGI_TOTAL_2015_density     float64\n",
       "FAGI_MEDIAN_2015_density    float64\n",
       "RADIUS                      float64\n",
       "GBA_ROOMS                   float64\n",
       "LIVING_GBA_ROOMS            float64\n",
       "LANDAREA_ROOMS              float64\n",
       "ALLROOMS                      int64\n",
       "NOROOM                      float64\n",
       "PRICE                       float64\n",
       "Length: 184, dtype: object"
      ]
     },
     "execution_count": 4,
     "metadata": {},
     "output_type": "execute_result"
    }
   ],
   "source": [
    "train.dtypes"
   ]
  },
  {
   "cell_type": "code",
   "execution_count": 5,
   "metadata": {
    "_uuid": "d2a1991ee4a69b6f8df05fd6b40732096dd1b55e"
   },
   "outputs": [
    {
     "name": "stderr",
     "output_type": "stream",
     "text": [
      "/Users/takato/.pyenv/versions/anaconda3-5.0.0/lib/python3.6/site-packages/pandas/core/indexing.py:601: SettingWithCopyWarning: \n",
      "A value is trying to be set on a copy of a slice from a DataFrame.\n",
      "Try using .loc[row_indexer,col_indexer] = value instead\n",
      "\n",
      "See the caveats in the documentation: http://pandas.pydata.org/pandas-docs/stable/indexing.html#indexing-view-versus-copy\n",
      "  self.obj[item_labels[indexer[info_axis]]] = value\n"
     ]
    },
    {
     "name": "stdout",
     "output_type": "stream",
     "text": [
      "Fixes remaining on train set\n",
      " Series([], dtype: int64)\n",
      "Fixes remaining on test set\n",
      " Series([], dtype: int64)\n"
     ]
    }
   ],
   "source": [
    "cols_with_none_as_nan = [\n",
    "    \"HEAT\", \n",
    "    \"AC\",\n",
    "    \"STYLE\",\n",
    "    \"STRUCT\",\n",
    "    \"GRADE\",\n",
    "    \"CNDTN\",\n",
    "    \"EXTWALL\",\n",
    "    \"ROOF\",\n",
    "    \"INTWALL\",\n",
    "    \"FULLADDRESS\",\n",
    "    \"CITY\",\n",
    "    \"STATE\",\n",
    "    \"NATIONALGRID\",\n",
    "    \"ASSESSMENT_SUBNBHD\",\n",
    "    \"CENSUS_BLOCK\",\n",
    "    \"QUADRANT\"\n",
    "    ]\n",
    "\n",
    "\n",
    "# fill missing text fields with a default string\n",
    "object_columns = train.select_dtypes(include=[object])\n",
    "test_object_columns = test.select_dtypes(include=[object])\n",
    "\n",
    "# for these colunms the string 'None' will be inserted in place of nan\n",
    "for col in cols_with_none_as_nan:\n",
    "    object_columns.loc[:, col] = object_columns.loc[:, col].fillna('None')\n",
    "    test_object_columns.loc[:, col] = test_object_columns.loc[:, col].fillna('None')\n",
    "\n",
    "remaining_fix = object_columns.isnull().sum()\n",
    "print('Fixes remaining on train set\\n', remaining_fix[remaining_fix>0])\n",
    "\n",
    "remaining_fix = test_object_columns.isnull().sum()\n",
    "print('Fixes remaining on test set\\n',remaining_fix[remaining_fix>0])"
   ]
  },
  {
   "cell_type": "code",
   "execution_count": 6,
   "metadata": {
    "_uuid": "040a3f5ed4709eb84be7731bc3d9e210f153e0ff"
   },
   "outputs": [
    {
     "name": "stdout",
     "output_type": "stream",
     "text": [
      "Fixes remaining on train set\n",
      " NUM_UNITS           39940\n",
      "AYB                   112\n",
      "YR_RMDL             40416\n",
      "STORIES             39973\n",
      "GBA                 39940\n",
      "KITCHENS            39941\n",
      "CMPLX_NUM           57899\n",
      "LIVING_GBA          57899\n",
      "GBA_ROOMS           39979\n",
      "LIVING_GBA_ROOMS    57914\n",
      "LANDAREA_ROOMS         54\n",
      "NOROOM              64714\n",
      "dtype: int64\n",
      "Fixes remaining on test set\n",
      " NUM_UNITS           20263\n",
      "AYB                    56\n",
      "YR_RMDL             20124\n",
      "STORIES             20278\n",
      "GBA                 20263\n",
      "KITCHENS            20264\n",
      "CMPLX_NUM           28845\n",
      "LIVING_GBA          28845\n",
      "GBA_ROOMS           20281\n",
      "LIVING_GBA_ROOMS    28854\n",
      "LANDAREA_ROOMS         27\n",
      "dtype: int64\n"
     ]
    }
   ],
   "source": [
    "numeric_columns = train.select_dtypes(include=[int, float])\n",
    "\n",
    "remaining_fix = numeric_columns.isnull().sum()\n",
    "print('Fixes remaining on train set\\n',remaining_fix[remaining_fix>0])\n",
    "\n",
    "test_numeric_columns = test.select_dtypes(include=[int, float])\n",
    "\n",
    "remaining_fix = test_numeric_columns.isnull().sum()\n",
    "print('Fixes remaining on test set\\n',remaining_fix[remaining_fix>0])"
   ]
  },
  {
   "cell_type": "code",
   "execution_count": 7,
   "metadata": {
    "_uuid": "92685802f7cdf157674988ea46e41ae367e6fc24",
    "scrolled": false
   },
   "outputs": [
    {
     "name": "stderr",
     "output_type": "stream",
     "text": [
      "/Users/takato/.pyenv/versions/anaconda3-5.0.0/lib/python3.6/site-packages/pandas/core/indexing.py:517: SettingWithCopyWarning: \n",
      "A value is trying to be set on a copy of a slice from a DataFrame.\n",
      "Try using .loc[row_indexer,col_indexer] = value instead\n",
      "\n",
      "See the caveats in the documentation: http://pandas.pydata.org/pandas-docs/stable/indexing.html#indexing-view-versus-copy\n",
      "  self.obj[item] = s\n"
     ]
    },
    {
     "name": "stdout",
     "output_type": "stream",
     "text": [
      "Fixes remaining on train set\n",
      " Series([], dtype: int64)\n",
      "Fixes remaining on test set\n",
      " Series([], dtype: int64)\n"
     ]
    }
   ],
   "source": [
    "cols_with_zero_as_nan = ['CMPLX_NUM',\n",
    "                         'YR_RMDL',\n",
    "                         'KITCHENS',\n",
    "                         'NUM_UNITS',\n",
    "                         'STORIES',\n",
    "                         \"AYB\",\n",
    "                         \"GBA\",\n",
    "                         \"LIVING_GBA\",\n",
    "                         \"GBA_ROOMS\",\n",
    "                         \"LIVING_GBA_ROOMS\",\n",
    "                         \"LANDAREA_ROOMS\",\n",
    "                         \"NOROOM\"\n",
    "                        ]\n",
    "\n",
    "cols_with_mean_as_nan = [\n",
    "                        ]\n",
    "\n",
    "\n",
    "# for these colunms a zero will be inserted in place of nan\n",
    "for col in cols_with_zero_as_nan:\n",
    "    numeric_columns.loc[:, col] = numeric_columns.loc[:, col].fillna(0)\n",
    "    test_numeric_columns.loc[:, col] = test_numeric_columns.loc[:, col].fillna(0)\n",
    "    \n",
    "# for these colunms the mean will be inserted in place of nan\n",
    "for col in cols_with_mean_as_nan:\n",
    "    numeric_columns.loc[:, col] = numeric_columns.loc[:, col].fillna(numeric_columns[col].mean())\n",
    "    test_numeric_columns.loc[:, col] = test_numeric_columns.loc[:, col].fillna(test_numeric_columns[col].mean())\n",
    "\n",
    "\n",
    "remaining_fix = numeric_columns.isnull().sum()\n",
    "print('Fixes remaining on train set\\n',remaining_fix[remaining_fix>0])\n",
    "\n",
    "remaining_fix = test_numeric_columns.isnull().sum()\n",
    "print('Fixes remaining on test set\\n',remaining_fix[remaining_fix>0])"
   ]
  },
  {
   "cell_type": "markdown",
   "metadata": {
    "_uuid": "b383c47695c2d078d7e95c9ee0406217c2f5e1cc",
    "collapsed": true
   },
   "source": [
    "object_dm = pd.get_dummies(object_columns, drop_first=True, dummy_na=True)\n",
    "test_object_dm = pd.get_dummies(test_object_columns, drop_first=True, dummy_na=True)"
   ]
  },
  {
   "cell_type": "code",
   "execution_count": 8,
   "metadata": {
    "_uuid": "c818563a6db4a9935ec100a157d783c4d1860ac1",
    "scrolled": false
   },
   "outputs": [
    {
     "name": "stdout",
     "output_type": "stream",
     "text": [
      "There are 123 skewed numerical features to transform\n",
      "\n",
      "Skew > .75 in numerical features: \n",
      "\n",
      "                               Skew\n",
      "FIREPLACES               312.673869\n",
      "STORIES                  190.554370\n",
      "BLDG_NUM                  83.579305\n",
      "NOROOM                    66.665040\n",
      "PRICE                     25.992369\n",
      "AYB                       19.750515\n",
      "LANDAREA_ROOMS            18.478804\n",
      "ZIPCODE                   16.527928\n",
      "LANDAREA                  10.218559\n",
      "OP000004                   9.100704\n",
      "OP00012                    8.798450\n",
      "OP000004_density           7.302955\n",
      "OP00012_density            6.806887\n",
      "P0010007                   3.167492\n",
      "KITCHENS                   3.086904\n",
      "P0030007                   2.790609\n",
      "SQ_MILES                   2.669636\n",
      "Shape_Area                 2.669636\n",
      "ACRES                      2.669636\n",
      "P0010008                   2.600115\n",
      "P0030008                   2.597893\n",
      "FAGI_TOTAL_2010_density    2.418797\n",
      "P0020002                   2.376042\n",
      "USECODE                    2.258470\n",
      "H0010003                   2.256449\n",
      "SQ_MILES_density           2.249471\n",
      "Shape_Area_density         2.249471\n",
      "ACRES_density              2.249471\n",
      "OP000016_density           2.220428\n",
      "P0040002                   2.207565\n",
      "...                             ...\n",
      "FAGI_MEDIAN_2012           1.080312\n",
      "P0040007_density           1.062442\n",
      "HF_BATHRM                  1.060516\n",
      "FAGI_TOTAL_2013            1.047483\n",
      "OP00005                    1.018109\n",
      "P0040009                   1.017196\n",
      "FAGI_MEDIAN_2011           1.016783\n",
      "GEOID_density              1.015645\n",
      "OP000001                   1.014437\n",
      "OP00009_density            0.993159\n",
      "OP00006_density            0.957861\n",
      "P0010002_density           0.957638\n",
      "TRACT_density              0.948862\n",
      "OP000001_density           0.916938\n",
      "P0020007                   0.914648\n",
      "P0020005                   0.908242\n",
      "P0040007                   0.897719\n",
      "P0010003                   0.878661\n",
      "P0020010_density           0.855352\n",
      "P0040005                   0.844981\n",
      "OP000014                   0.841205\n",
      "P0030003                   0.822020\n",
      "OP00010_density            0.814858\n",
      "P0020010                   0.802530\n",
      "LIVING_GBA_ROOMS           0.797524\n",
      "ALLROOMS                   0.788293\n",
      "P0030001                   0.786094\n",
      "P0040010_density           0.778907\n",
      "FAGI_MEDIAN_2013           0.762054\n",
      "P0040010                   0.760337\n",
      "\n",
      "[123 rows x 1 columns]\n"
     ]
    },
    {
     "name": "stderr",
     "output_type": "stream",
     "text": [
      "/Users/takato/.pyenv/versions/anaconda3-5.0.0/lib/python3.6/site-packages/ipykernel_launcher.py:13: SettingWithCopyWarning: \n",
      "A value is trying to be set on a copy of a slice from a DataFrame.\n",
      "Try using .loc[row_indexer,col_indexer] = value instead\n",
      "\n",
      "See the caveats in the documentation: http://pandas.pydata.org/pandas-docs/stable/indexing.html#indexing-view-versus-copy\n",
      "  del sys.path[0]\n"
     ]
    },
    {
     "name": "stdout",
     "output_type": "stream",
     "text": [
      "Fixed skewness\n",
      "There are 122 skewed numerical features to transform\n",
      "\n",
      "Skew > .75 in numerical features: \n",
      "\n",
      "                                Skew\n",
      "FIREPLACES                167.931247\n",
      "STORIES                    95.583603\n",
      "BLDG_NUM                   83.740245\n",
      "NOROOM                     42.612385\n",
      "AYB                        19.759579\n",
      "ZIPCODE                    16.335698\n",
      "OP000004                    9.434360\n",
      "OP00012                     9.092387\n",
      "OP000004_density            7.490630\n",
      "OP00012_density             6.942350\n",
      "LANDAREA                    4.606162\n",
      "LANDAREA_ROOMS              4.409567\n",
      "P0010007                    3.162616\n",
      "P0030007                    2.790462\n",
      "SQ_MILES                    2.677433\n",
      "Shape_Area                  2.677433\n",
      "ACRES                       2.677433\n",
      "P0010008                    2.595506\n",
      "P0030008                    2.592983\n",
      "FAGI_TOTAL_2010_density     2.444263\n",
      "P0020002                    2.359057\n",
      "USECODE                     2.265421\n",
      "H0010003                    2.258577\n",
      "SQ_MILES_density            2.246999\n",
      "Shape_Area_density          2.246999\n",
      "ACRES_density               2.246999\n",
      "OP000016_density            2.238647\n",
      "P0040002                    2.188627\n",
      "P0030008_density            2.134734\n",
      "FAGI_MEDIAN_2014_density    2.124856\n",
      "...                              ...\n",
      "P0030005_density            1.128923\n",
      "P0040007_density            1.068144\n",
      "FAGI_MEDIAN_2012            1.067281\n",
      "FAGI_TOTAL_2013             1.046536\n",
      "OP00005                     1.033023\n",
      "GEOID_density               1.029128\n",
      "OP000001                    1.024017\n",
      "P0040009                    1.023665\n",
      "OP00009_density             1.012566\n",
      "FAGI_MEDIAN_2011            1.006554\n",
      "OP00006_density             0.964064\n",
      "TRACT_density               0.954926\n",
      "OP000001_density            0.932692\n",
      "P0010002_density            0.922072\n",
      "P0020007                    0.921057\n",
      "P0020005                    0.901120\n",
      "P0040007                    0.898578\n",
      "P0010003                    0.871912\n",
      "OP000014                    0.855290\n",
      "P0020010_density            0.835726\n",
      "P0040005                    0.835637\n",
      "OP00010_density             0.822074\n",
      "P0030003                    0.812753\n",
      "P0020010                    0.791612\n",
      "ALLROOMS                    0.787175\n",
      "P0030001                    0.784218\n",
      "P0040010_density            0.782166\n",
      "LIVING_GBA_ROOMS            0.780302\n",
      "P0040010                    0.753627\n",
      "FAGI_MEDIAN_2013            0.751711\n",
      "\n",
      "[122 rows x 1 columns]\n",
      "Fixed skewness\n"
     ]
    }
   ],
   "source": [
    "def fix_skewness(dataframe):\n",
    "    skewed_feats = dataframe.apply(lambda x: abs(skew(x.dropna()))).sort_values(ascending=False)\n",
    "    skewness = pd.DataFrame({'Skew': skewed_feats})\n",
    "    skewness = skewness[abs(skewness) > 0.75].dropna()\n",
    "    print(\"There are {} skewed numerical features to transform\".format(skewness.shape[0]))\n",
    "    print(\"\\nSkew > .75 in numerical features: \\n\")\n",
    "    print(skewness)\n",
    "    # Fix skewness\n",
    "    skewed_features = skewness.index\n",
    "    lam = 0.15\n",
    "    for feat in skewed_features:\n",
    "        if feat == 'PRICE': continue\n",
    "        dataframe[feat] = boxcox1p(dataframe[feat], lam)\n",
    "    print('Fixed skewness')\n",
    "\n",
    "fix_skewness(numeric_columns)\n",
    "fix_skewness(test_numeric_columns)"
   ]
  },
  {
   "cell_type": "code",
   "execution_count": 9,
   "metadata": {
    "_uuid": "10115634cb2fe617586f86be732c3fb707099bc7"
   },
   "outputs": [
    {
     "name": "stdout",
     "output_type": "stream",
     "text": [
      "193288 distinct labels generated\n"
     ]
    },
    {
     "name": "stderr",
     "output_type": "stream",
     "text": [
      "/Users/takato/.pyenv/versions/anaconda3-5.0.0/lib/python3.6/site-packages/pandas/core/indexing.py:601: SettingWithCopyWarning: \n",
      "A value is trying to be set on a copy of a slice from a DataFrame.\n",
      "Try using .loc[row_indexer,col_indexer] = value instead\n",
      "\n",
      "See the caveats in the documentation: http://pandas.pydata.org/pandas-docs/stable/indexing.html#indexing-view-versus-copy\n",
      "  self.obj[item_labels[indexer[info_axis]]] = value\n",
      "/Users/takato/.pyenv/versions/anaconda3-5.0.0/lib/python3.6/site-packages/pandas/core/indexing.py:517: SettingWithCopyWarning: \n",
      "A value is trying to be set on a copy of a slice from a DataFrame.\n",
      "Try using .loc[row_indexer,col_indexer] = value instead\n",
      "\n",
      "See the caveats in the documentation: http://pandas.pydata.org/pandas-docs/stable/indexing.html#indexing-view-versus-copy\n",
      "  self.obj[item] = s\n"
     ]
    },
    {
     "data": {
      "text/html": [
       "<div>\n",
       "<style>\n",
       "    .dataframe thead tr:only-child th {\n",
       "        text-align: right;\n",
       "    }\n",
       "\n",
       "    .dataframe thead th {\n",
       "        text-align: left;\n",
       "    }\n",
       "\n",
       "    .dataframe tbody tr th {\n",
       "        vertical-align: top;\n",
       "    }\n",
       "</style>\n",
       "<table border=\"1\" class=\"dataframe\">\n",
       "  <thead>\n",
       "    <tr style=\"text-align: right;\">\n",
       "      <th></th>\n",
       "      <th>HEAT</th>\n",
       "      <th>AC</th>\n",
       "      <th>SALEDATE</th>\n",
       "      <th>QUALIFIED</th>\n",
       "      <th>STYLE</th>\n",
       "      <th>STRUCT</th>\n",
       "      <th>GRADE</th>\n",
       "      <th>CNDTN</th>\n",
       "      <th>EXTWALL</th>\n",
       "      <th>ROOF</th>\n",
       "      <th>...</th>\n",
       "      <th>SOURCE</th>\n",
       "      <th>FULLADDRESS</th>\n",
       "      <th>CITY</th>\n",
       "      <th>STATE</th>\n",
       "      <th>NATIONALGRID</th>\n",
       "      <th>ASSESSMENT_NBHD</th>\n",
       "      <th>ASSESSMENT_SUBNBHD</th>\n",
       "      <th>CENSUS_BLOCK</th>\n",
       "      <th>WARD</th>\n",
       "      <th>QUADRANT</th>\n",
       "    </tr>\n",
       "  </thead>\n",
       "  <tbody>\n",
       "    <tr>\n",
       "      <th>0</th>\n",
       "      <td>125695</td>\n",
       "      <td>125704</td>\n",
       "      <td>81640</td>\n",
       "      <td>125645</td>\n",
       "      <td>92731</td>\n",
       "      <td>125651</td>\n",
       "      <td>125680</td>\n",
       "      <td>125603</td>\n",
       "      <td>125570</td>\n",
       "      <td>125625</td>\n",
       "      <td>...</td>\n",
       "      <td>125647</td>\n",
       "      <td>18372</td>\n",
       "      <td>125684</td>\n",
       "      <td>125579</td>\n",
       "      <td>33644</td>\n",
       "      <td>125638</td>\n",
       "      <td>3868</td>\n",
       "      <td>1655</td>\n",
       "      <td>125688</td>\n",
       "      <td>125631</td>\n",
       "    </tr>\n",
       "    <tr>\n",
       "      <th>1</th>\n",
       "      <td>125611</td>\n",
       "      <td>125704</td>\n",
       "      <td>85058</td>\n",
       "      <td>125645</td>\n",
       "      <td>92731</td>\n",
       "      <td>125651</td>\n",
       "      <td>125680</td>\n",
       "      <td>125680</td>\n",
       "      <td>125570</td>\n",
       "      <td>125557</td>\n",
       "      <td>...</td>\n",
       "      <td>125647</td>\n",
       "      <td>18317</td>\n",
       "      <td>125684</td>\n",
       "      <td>125579</td>\n",
       "      <td>33683</td>\n",
       "      <td>125638</td>\n",
       "      <td>3868</td>\n",
       "      <td>1655</td>\n",
       "      <td>125688</td>\n",
       "      <td>125631</td>\n",
       "    </tr>\n",
       "    <tr>\n",
       "      <th>2</th>\n",
       "      <td>125611</td>\n",
       "      <td>125704</td>\n",
       "      <td>82352</td>\n",
       "      <td>125645</td>\n",
       "      <td>92731</td>\n",
       "      <td>125651</td>\n",
       "      <td>125680</td>\n",
       "      <td>125603</td>\n",
       "      <td>125570</td>\n",
       "      <td>125557</td>\n",
       "      <td>...</td>\n",
       "      <td>125647</td>\n",
       "      <td>18280</td>\n",
       "      <td>125684</td>\n",
       "      <td>125579</td>\n",
       "      <td>33693</td>\n",
       "      <td>125638</td>\n",
       "      <td>3868</td>\n",
       "      <td>1655</td>\n",
       "      <td>125688</td>\n",
       "      <td>125631</td>\n",
       "    </tr>\n",
       "    <tr>\n",
       "      <th>3</th>\n",
       "      <td>125611</td>\n",
       "      <td>125704</td>\n",
       "      <td>83385</td>\n",
       "      <td>125645</td>\n",
       "      <td>102184</td>\n",
       "      <td>125651</td>\n",
       "      <td>125680</td>\n",
       "      <td>125603</td>\n",
       "      <td>125570</td>\n",
       "      <td>125557</td>\n",
       "      <td>...</td>\n",
       "      <td>125647</td>\n",
       "      <td>17334</td>\n",
       "      <td>125684</td>\n",
       "      <td>125579</td>\n",
       "      <td>33959</td>\n",
       "      <td>125638</td>\n",
       "      <td>3868</td>\n",
       "      <td>1655</td>\n",
       "      <td>125688</td>\n",
       "      <td>125631</td>\n",
       "    </tr>\n",
       "    <tr>\n",
       "      <th>4</th>\n",
       "      <td>125611</td>\n",
       "      <td>125704</td>\n",
       "      <td>83795</td>\n",
       "      <td>125645</td>\n",
       "      <td>92731</td>\n",
       "      <td>125651</td>\n",
       "      <td>125680</td>\n",
       "      <td>125546</td>\n",
       "      <td>125570</td>\n",
       "      <td>125625</td>\n",
       "      <td>...</td>\n",
       "      <td>125647</td>\n",
       "      <td>18343</td>\n",
       "      <td>125684</td>\n",
       "      <td>125579</td>\n",
       "      <td>33859</td>\n",
       "      <td>125638</td>\n",
       "      <td>3868</td>\n",
       "      <td>1654</td>\n",
       "      <td>125688</td>\n",
       "      <td>125631</td>\n",
       "    </tr>\n",
       "  </tbody>\n",
       "</table>\n",
       "<p>5 rows × 22 columns</p>\n",
       "</div>"
      ],
      "text/plain": [
       "     HEAT      AC  SALEDATE  QUALIFIED   STYLE  STRUCT   GRADE   CNDTN  \\\n",
       "0  125695  125704     81640     125645   92731  125651  125680  125603   \n",
       "1  125611  125704     85058     125645   92731  125651  125680  125680   \n",
       "2  125611  125704     82352     125645   92731  125651  125680  125603   \n",
       "3  125611  125704     83385     125645  102184  125651  125680  125603   \n",
       "4  125611  125704     83795     125645   92731  125651  125680  125546   \n",
       "\n",
       "   EXTWALL    ROOF    ...     SOURCE  FULLADDRESS    CITY   STATE  \\\n",
       "0   125570  125625    ...     125647        18372  125684  125579   \n",
       "1   125570  125557    ...     125647        18317  125684  125579   \n",
       "2   125570  125557    ...     125647        18280  125684  125579   \n",
       "3   125570  125557    ...     125647        17334  125684  125579   \n",
       "4   125570  125625    ...     125647        18343  125684  125579   \n",
       "\n",
       "   NATIONALGRID  ASSESSMENT_NBHD  ASSESSMENT_SUBNBHD  CENSUS_BLOCK    WARD  \\\n",
       "0         33644           125638                3868          1655  125688   \n",
       "1         33683           125638                3868          1655  125688   \n",
       "2         33693           125638                3868          1655  125688   \n",
       "3         33959           125638                3868          1655  125688   \n",
       "4         33859           125638                3868          1654  125688   \n",
       "\n",
       "   QUADRANT  \n",
       "0    125631  \n",
       "1    125631  \n",
       "2    125631  \n",
       "3    125631  \n",
       "4    125631  \n",
       "\n",
       "[5 rows x 22 columns]"
      ]
     },
     "execution_count": 9,
     "metadata": {},
     "output_type": "execute_result"
    }
   ],
   "source": [
    "strings = np.array([])\n",
    "for c in object_columns.columns:\n",
    "    strings = np.append(strings, pd.unique(object_columns[c].values))\n",
    "\n",
    "for c in test_object_columns.columns:\n",
    "    strings = np.append(strings, pd.unique(test_object_columns[c].values))\n",
    "\n",
    "print(len(strings), 'distinct labels generated')\n",
    "\n",
    "labeler = LabelEncoder()\n",
    "labeler.fit(strings.astype(\"str\"))\n",
    "\n",
    "for c in object_columns.columns:\n",
    "    object_columns.loc[:,c] = labeler.transform(object_columns.loc[:,c])\n",
    "    test_object_columns.loc[:,c] = labeler.transform(test_object_columns.loc[:,c])\n",
    "\n",
    "object_columns[0:5]"
   ]
  },
  {
   "cell_type": "code",
   "execution_count": 10,
   "metadata": {
    "_uuid": "6e926d5b17ed019dcc87f12e17134e8d8f57ca03"
   },
   "outputs": [
    {
     "name": "stdout",
     "output_type": "stream",
     "text": [
      "HEAT                        0.049009\n",
      "AC                         -0.002319\n",
      "SALEDATE                    0.444892\n",
      "QUALIFIED                  -0.177274\n",
      "STYLE                      -0.040930\n",
      "STRUCT                      0.133033\n",
      "GRADE                       0.203040\n",
      "CNDTN                       0.195728\n",
      "EXTWALL                    -0.052548\n",
      "ROOF                        0.080821\n",
      "INTWALL                    -0.065733\n",
      "GIS_LAST_MOD_DTTM                NaN\n",
      "SOURCE                      0.098254\n",
      "FULLADDRESS                -0.050850\n",
      "CITY                        0.098307\n",
      "STATE                      -0.098307\n",
      "NATIONALGRID               -0.212368\n",
      "ASSESSMENT_NBHD            -0.008249\n",
      "ASSESSMENT_SUBNBHD          0.066453\n",
      "CENSUS_BLOCK               -0.102981\n",
      "WARD                       -0.311388\n",
      "QUADRANT                   -0.222667\n",
      "BATHRM                      0.451223\n",
      "HF_BATHRM                   0.277905\n",
      "NUM_UNITS                   0.088957\n",
      "ROOMS                       0.266251\n",
      "BEDRM                       0.290507\n",
      "AYB                         0.005731\n",
      "YR_RMDL                     0.135715\n",
      "EYB                         0.225933\n",
      "                              ...   \n",
      "OP000013_density           -0.155756\n",
      "OP000014_density           -0.136170\n",
      "OP000015_density            0.283347\n",
      "OP000016_density            0.072780\n",
      "H0010001_density            0.061610\n",
      "H0010002_density            0.093605\n",
      "H0010003_density           -0.082149\n",
      "ACRES_density               0.054682\n",
      "SQ_MILES_density            0.054321\n",
      "Shape_Length_density       -0.013422\n",
      "Shape_Area_density          0.036242\n",
      "FAGI_TOTAL_2010_density     0.431429\n",
      "FAGI_MEDIAN_2010_density    0.290775\n",
      "FAGI_TOTAL_2013_density     0.419601\n",
      "FAGI_MEDIAN_2013_density    0.292167\n",
      "FAGI_TOTAL_2011_density     0.437492\n",
      "FAGI_MEDIAN_2011_density    0.297130\n",
      "FAGI_TOTAL_2012_density     0.438513\n",
      "FAGI_MEDIAN_2012_density    0.306142\n",
      "FAGI_TOTAL_2014_density     0.446267\n",
      "FAGI_MEDIAN_2014_density    0.318586\n",
      "FAGI_TOTAL_2015_density     0.447483\n",
      "FAGI_MEDIAN_2015_density    0.319525\n",
      "RADIUS                     -0.389163\n",
      "GBA_ROOMS                   0.217258\n",
      "LIVING_GBA_ROOMS           -0.078169\n",
      "LANDAREA_ROOMS              0.038773\n",
      "ALLROOMS                    0.383023\n",
      "NOROOM                      0.001433\n",
      "PRICE                       1.000000\n",
      "Name: PRICE, Length: 184, dtype: float64\n"
     ]
    },
    {
     "data": {
      "text/plain": [
       "Index(['HEAT', 'AC', 'SALEDATE', 'QUALIFIED', 'STYLE', 'STRUCT', 'GRADE',\n",
       "       'CNDTN', 'EXTWALL', 'ROOF',\n",
       "       ...\n",
       "       'FAGI_MEDIAN_2014_density', 'FAGI_TOTAL_2015_density',\n",
       "       'FAGI_MEDIAN_2015_density', 'RADIUS', 'GBA_ROOMS', 'LIVING_GBA_ROOMS',\n",
       "       'LANDAREA_ROOMS', 'ALLROOMS', 'NOROOM', 'PRICE'],\n",
       "      dtype='object', length=182)"
      ]
     },
     "execution_count": 10,
     "metadata": {},
     "output_type": "execute_result"
    }
   ],
   "source": [
    "# final train dataset\n",
    "train_ds = object_columns.join(numeric_columns)\n",
    "train_ds[\"PRICE\"] = np.log1p(train_ds[\"PRICE\"])\n",
    "\n",
    "# test dataset\n",
    "test_ds = test_object_columns.join(test_numeric_columns)\n",
    "\n",
    "#correlation matrix\n",
    "corrmat = train_ds.corr()['PRICE']\n",
    "print(corrmat)\n",
    "#f, ax = plt.subplots(figsize=(12, 9))\n",
    "#sns.heatmap(corrmat, vmax=.8, square=True);\n",
    "\n",
    "best_columns = corrmat[abs(corrmat) > 0.0].index\n",
    "train_ds = train_ds[best_columns]\n",
    "test_ds = test_ds[best_columns.drop('PRICE')]\n",
    "best_columns"
   ]
  },
  {
   "cell_type": "markdown",
   "metadata": {
    "_uuid": "b8bc3f26c68681b09c4de60fc0b247f4a39c4892",
    "collapsed": true
   },
   "source": [
    "train_ds = pd.concat([train_ds, object_dm], axis=1)\n",
    "test_ds = pd.concat([test_ds, test_object_dm], axis=1)"
   ]
  },
  {
   "cell_type": "code",
   "execution_count": 11,
   "metadata": {
    "_uuid": "53060d55104e9a032268ee0dcac27a60432e567f"
   },
   "outputs": [
    {
     "name": "stdout",
     "output_type": "stream",
     "text": [
      "Training set features shape (97839, 181)\n",
      "Training set labels shape (97839, 1)\n",
      "Test set shape (49108, 181)\n"
     ]
    }
   ],
   "source": [
    "X_train = (train_ds.values[:,:-1])\n",
    "y_train = np.asarray([[t] for t in (train_ds.values[:,-1])])\n",
    "X_test = test_ds.values\n",
    "\n",
    "print('Training set features shape', X_train.shape)\n",
    "print('Training set labels shape', y_train.shape)\n",
    "print('Test set shape', test_ds.shape)"
   ]
  },
  {
   "cell_type": "code",
   "execution_count": 12,
   "metadata": {
    "_uuid": "7a200d7e95d1b58bab46d1f013db1af9a8bea091",
    "collapsed": true
   },
   "outputs": [],
   "source": [
    "from sklearn.preprocessing import RobustScaler\n",
    "transformer = RobustScaler().fit(X_train)\n",
    "X_train = pd.DataFrame(transformer.transform(X_train))\n",
    "X_test = pd.DataFrame(transformer.transform(X_test))"
   ]
  },
  {
   "cell_type": "code",
   "execution_count": 13,
   "metadata": {
    "_uuid": "8c8d2bfd5e8301db389812fdcb5d37f33dabe5b8",
    "collapsed": true
   },
   "outputs": [],
   "source": [
    "def train_model(depth, learning_rate, n_estimators, model_type=\"xgb\"):\n",
    "    if model_type == 'xgb':\n",
    "        model = xgb.XGBRegressor(colsample_bytree=0.4603, gamma=0.0468, \n",
    "                                 learning_rate=learning_rate, max_depth=depth, \n",
    "                                 min_child_weight=1.7817, n_estimators=n_estimators,\n",
    "                                 reg_alpha=0.4640, reg_lambda=0.8571,\n",
    "                                 subsample=0.5213, silent=1,\n",
    "                                 random_state =7, nthread = -1)\n",
    "    if model_type == 'lgb':\n",
    "        model = lgb.LGBMRegressor(colsample_bytree=0.4603, min_gain_to_split=0.0468, \n",
    "                                 learning_rate=learning_rate, max_depth=depth, \n",
    "                                 min_child_weight=1.7817, n_estimators=n_estimators,\n",
    "                                 reg_alpha=0.4640, reg_lambda=0.8571,\n",
    "                                 subsample=0.5213, silent=1,\n",
    "                                 random_state =7, nthread = -1)\n",
    "        \n",
    "    score = rmsle_cv(model)\n",
    "    print(model_type, \" score: depth={:d} lr={:.2f} est={:d} -> mean:{:.5f} std:{:.4f}\".format(depth, learning_rate, n_estimators, score.mean(), score.std()))\n",
    "    return score\n",
    "\n",
    "#Validation function\n",
    "n_folds = 5\n",
    "\n",
    "def rmsle_cv(model):\n",
    "    kf = KFold(n_folds, shuffle=True, random_state=42).get_n_splits(train)\n",
    "    rmse= np.sqrt(-cross_val_score(model, X_train, y_train.flatten(), scoring=\"neg_mean_squared_error\", cv = kf))\n",
    "    return(rmse)\n",
    "\n",
    "\n",
    "def rmsle(y, y_pred):\n",
    "    return np.sqrt(mean_squared_error(y, y_pred))"
   ]
  },
  {
   "cell_type": "markdown",
   "metadata": {
    "_uuid": "9f4ed5f2ddba8a47489a5e331a35cc3282cf395f"
   },
   "source": [
    "result = []\n",
    "for depth in range(2, 6):\n",
    "    for learning_rate in range(100, 500, 100):\n",
    "        for n_estimators in range(4000, 6000, 500):\n",
    "            score = train_model(depth, learning_rate/100, n_estimators, model_type='lgb')\n",
    "            result.append([depth, learning_rate/100, n_estimators, score.mean(), score.std()])"
   ]
  },
  {
   "cell_type": "markdown",
   "metadata": {
    "_uuid": "b92d84b5e4fa7ef3ef37d2292e9cacd39edfd6cf"
   },
   "source": [
    "# check results\n",
    "result = pd.DataFrame(result, columns=['depth', 'learning_rate', 'n_estimators', 'score_mean', 'score_std'])\n",
    "result.describe()"
   ]
  },
  {
   "cell_type": "markdown",
   "metadata": {
    "_uuid": "b838c156d062bc82b1c551c367ac7188da390cd6"
   },
   "source": [
    "best = np.argmin(result['score_mean'].values)\n",
    "print('Best params = \\n', result.iloc[best])"
   ]
  },
  {
   "cell_type": "code",
   "execution_count": 14,
   "metadata": {
    "_uuid": "3ece27cb6941092481f88caad90267dd0592e4fd"
   },
   "outputs": [
    {
     "name": "stdout",
     "output_type": "stream",
     "text": [
      "lgb score: depth=5 lr=0.50 est=1000 -> mean:0.52983 std:0.0973\n",
      "RMSLE LGB =  0.24300868913172027\n"
     ]
    }
   ],
   "source": [
    "# train with the best parameters\n",
    "\n",
    "#depth = int(result.iloc[best]['depth'])\n",
    "#learning_rate = result.iloc[best]['learning_rate']\n",
    "#n_estimators = int(result.iloc[best]['n_estimators'])\n",
    "\n",
    "\n",
    "depth = 5\n",
    "learning_rate = 0.5\n",
    "n_estimators = 1000\n",
    "\n",
    "model_lgb = lgb.LGBMRegressor(num_leaves=8,colsample_bytree=0.4603,learning_rate=learning_rate, max_depth=depth, \n",
    "                         min_child_weight=1.7817, n_estimators=n_estimators,\n",
    "                         reg_alpha=0.4640, reg_lambda=0.8571,\n",
    "                         subsample=0.5213, silent=1,\n",
    "                         random_state = 6, nthread = -1)\n",
    "\n",
    "score = rmsle_cv(model_lgb)\n",
    "print(\"lgb score: depth={:d} lr={:.2f} est={:d} -> mean:{:.5f} std:{:.4f}\".format(depth, learning_rate, n_estimators, score.mean(), score.std()))\n",
    "\n",
    "model_lgb.fit(X_train, y_train.flatten())\n",
    "y_pred = model_lgb.predict(X_train)\n",
    "\n",
    "print('RMSLE LGB = ', rmsle(y_train, y_pred))"
   ]
  },
  {
   "cell_type": "code",
   "execution_count": 15,
   "metadata": {
    "_uuid": "deeef29a8243de1961f76eaeeda652477d197868"
   },
   "outputs": [
    {
     "name": "stdout",
     "output_type": "stream",
     "text": [
      "LGBMRegressor(boosting_type='gbdt', class_weight=None,\n",
      "       colsample_bytree=0.4603, importance_type='split', learning_rate=0.5,\n",
      "       max_depth=5, min_child_samples=20, min_child_weight=1.7817,\n",
      "       min_split_gain=0.0, n_estimators=1000, n_jobs=-1, nthread=-1,\n",
      "       num_leaves=8, objective=None, random_state=6, reg_alpha=0.464,\n",
      "       reg_lambda=0.8571, silent=1, subsample=0.5213,\n",
      "       subsample_for_bin=200000, subsample_freq=0)\n"
     ]
    }
   ],
   "source": [
    "print(model_lgb)"
   ]
  },
  {
   "cell_type": "code",
   "execution_count": 16,
   "metadata": {
    "_uuid": "fb5bd25181cc536c42f4602892af6aea992518bd"
   },
   "outputs": [
    {
     "data": {
      "image/png": "[encoded data removed]",
      "text/plain": [
       "<matplotlib.figure.Figure at 0x139a31d30>"
      ]
     },
     "metadata": {},
     "output_type": "display_data"
    }
   ],
   "source": [
    "plt.scatter(np.expm1(y_train), np.expm1(y_pred))\n",
    "#plt.xlim(0, 100_000_00)\n",
    "#plt.ylim(0, 100_000_00)\n",
    "plt.xlabel('actual')\n",
    "plt.ylabel('predicted')\n",
    "plt.grid()\n",
    "#plt.plot([(0, 0), (10_000_000, 10_000_000)], [(0, 0), (10_000_000, 10_000_000)])\n",
    "plt.show()"
   ]
  },
  {
   "cell_type": "code",
   "execution_count": null,
   "metadata": {
    "_uuid": "d3be49e4dccf70a939bb85be835548e661b2046b"
   },
   "outputs": [
    {
     "data": {
      "image/png": "[encoded data removed]",
      "text/plain": [
       "<matplotlib.figure.Figure at 0x139a24400>"
      ]
     },
     "metadata": {},
     "output_type": "display_data"
    }
   ],
   "source": [
    "predictors = [x for x in train_ds.columns if x not in [\"PRICE\", \"Id\"]]\n",
    "feat_imp = pd.Series(model_lgb.feature_importances_, predictors).sort_values(ascending=False)\n",
    "sns.set_palette(\"husl\")\n",
    "sns.barplot( feat_imp.head(20).values,feat_imp.head(20).index)\n",
    "plt.title('Top20 Feature Importances')\n",
    "plt.xlabel('Feature Importance Score')\n",
    "plt.show()"
   ]
  },
  {
   "cell_type": "markdown",
   "metadata": {
    "_uuid": "abeb4803f1f58dca4b85ec95cd8f2219a6afed4c"
   },
   "source": [
    "result = []\n",
    "for depth in range(2, 6):\n",
    "    for learning_rate in range(100, 500, 100):\n",
    "        for n_estimators in range(4000, 6000, 500):\n",
    "            score = train_model(depth, learning_rate/100, n_estimators, model_type='lgb')\n",
    "            result.append([depth, learning_rate/100, n_estimators, score.mean(), score.std()])"
   ]
  },
  {
   "cell_type": "markdown",
   "metadata": {
    "_uuid": "51e245b61ab6e1220b03891c8b1355f422f1eee5"
   },
   "source": [
    "# check results\n",
    "result = pd.DataFrame(result, columns=['depth', 'learning_rate', 'n_estimators', 'score_mean', 'score_std'])\n",
    "result.describe()"
   ]
  },
  {
   "cell_type": "markdown",
   "metadata": {
    "_uuid": "1565da9285ae21c8e67d43bf224484a19a7f8fe7"
   },
   "source": [
    "best = np.argmin(result['score_mean'].values)\n",
    "print('Best params = \\n', result.iloc[best])"
   ]
  },
  {
   "cell_type": "code",
   "execution_count": null,
   "metadata": {
    "_uuid": "6189d87b0addab89acb22229bc55b2f151e55094",
    "collapsed": true
   },
   "outputs": [],
   "source": [
    "# train with the best parameters\n",
    "\n",
    "#depth = int(result.iloc[best]['depth'])\n",
    "#learning_rate = result.iloc[best]['learning_rate']\n",
    "#n_estimators = int(result.iloc[best]['n_estimators'])\n",
    "\n",
    "\n",
    "depth = 5\n",
    "learning_rate = 0.5\n",
    "n_estimators = 1000\n",
    "\n",
    "model_xgb = xgb.XGBRegressor(learning_rate=learning_rate, max_depth=depth, \n",
    "                         min_child_weight=1.7817, n_estimators=n_estimators,silent=1,\n",
    "                         random_state =7, nthread = -1)\n",
    "\n",
    "\n",
    "\n",
    "score = rmsle_cv(model_xgb)\n",
    "print(\"XGB score: depth={:d} lr={:.2f} est={:d} -> mean:{:.5f} std:{:.4f}\".format(depth, learning_rate, n_estimators, score.mean(), score.std()))\n",
    "\n",
    "model_xgb.fit(X_train, y_train.flatten())\n",
    "y_pred = model_xgb.predict(X_train)\n",
    "\n",
    "print('RMSLE XGB = ', rmsle(y_train, y_pred))"
   ]
  },
  {
   "cell_type": "code",
   "execution_count": null,
   "metadata": {
    "_uuid": "d6ed58cc26cd0b49f22bc6839919eeb74682ae0f",
    "collapsed": true
   },
   "outputs": [],
   "source": [
    "plt.scatter(np.expm1(y_train), np.expm1(y_pred))\n",
    "#plt.xlim(0, 100_000_000)\n",
    "#plt.ylim(0, 100_000_000)\n",
    "plt.xlabel('actual')\n",
    "plt.ylabel('predicted')\n",
    "plt.grid()\n",
    "plt.plot([(0, 0), (10_000_000, 10_000_000)], [(0, 0), (10_000_000, 10_000_000)])\n",
    "plt.show()"
   ]
  },
  {
   "cell_type": "code",
   "execution_count": null,
   "metadata": {
    "_uuid": "08eb63a9a0fa25eceb6a7c016b04159565445126",
    "collapsed": true
   },
   "outputs": [],
   "source": [
    "predictors = [x for x in train_ds.columns if x not in [\"PRICE\", \"Id\"]]\n",
    "feat_imp = pd.Series(model_lgb.feature_importances_, predictors).sort_values(ascending=False)\n",
    "sns.set_palette(\"husl\")\n",
    "sns.barplot( feat_imp.head(20).values,feat_imp.head(20).index)\n",
    "plt.title('Top20 Feature Importances')\n",
    "plt.xlabel('Feature Importance Score')\n",
    "plt.show()"
   ]
  },
  {
   "cell_type": "code",
   "execution_count": null,
   "metadata": {
    "_uuid": "40bd6c3286f840c4d27d5bfc058de38fdd9ba4d6",
    "collapsed": true,
    "scrolled": false
   },
   "outputs": [],
   "source": [
    "avg_predict = (model_lgb.predict(X_train) + model_xgb.predict(X_train)) / 2\n",
    "y_pred = avg_predict\n",
    "\n",
    "plt.figure(figsize=(8, 8))\n",
    "plt.scatter(np.expm1(y_train), np.expm1(y_pred))\n",
    "plt.xlim(0, 200_000_000)\n",
    "plt.ylim(0, 200_000_000)\n",
    "plt.xlabel('actual', fontsize=26)\n",
    "plt.ylabel('predicted', fontsize=26)\n",
    "plt.plot([(0, 0), (10_000_000, 10_000_000)], [(0, 0), (10_000_000, 10_000_000)])\n",
    "plt.show()\n",
    "\n",
    "print('RMSLE averaged = ', rmsle(y_train, y_pred))"
   ]
  },
  {
   "cell_type": "code",
   "execution_count": null,
   "metadata": {
    "_uuid": "d03f1d94cfaafeebcf253e57098843deee750ab7",
    "collapsed": true
   },
   "outputs": [],
   "source": [
    "# Submission\n",
    "print(np.expm1(model_xgb.predict(X_test)[0:5]))\n",
    "print(np.expm1(model_lgb.predict(X_test)[0:5]))\n",
    "avg_predict = (model_xgb.predict(X_test) + model_lgb.predict(X_test)) / 2\n",
    "subm_predict = np.expm1(avg_predict)\n",
    "\n",
    "dsubm_predict = pd.DataFrame()\n",
    "dsubm_predict['Id'] = test.values[:,0]\n",
    "dsubm_predict[\"PRICE\"] = pd.DataFrame(subm_predict)\n",
    "\n",
    "dsubm_predict.to_csv('submission.csv', index=False)\n",
    "dsubm_predict[0:10]"
   ]
  },
  {
   "cell_type": "code",
   "execution_count": null,
   "metadata": {
    "collapsed": true
   },
   "outputs": [],
   "source": [
    "# Submission\n",
    "print(np.expm1(model_lgb.predict(X_test)[0:5]))\n",
    "avg_predict =  model_lgb.predict(X_test)\n",
    "dsubm_predict = np.expm1(avg_predict)\n",
    "\n",
    "dsubm_predict = pd.DataFrame()\n",
    "dsubm_predict['Id'] = test.values[:,0]\n",
    "dsubm_predict[\"PRICE\"] = pd.DataFrame(subm_predict)\n",
    "\n",
    "dsubm_predict.to_csv('submission.csv', index=False)\n",
    "dsubm_predict[0:10]"
   ]
  },
  {
   "cell_type": "code",
   "execution_count": null,
   "metadata": {
    "_uuid": "4fff9fcb2e88562a1a9aa4b62257a77431d12505",
    "collapsed": true
   },
   "outputs": [],
   "source": [
    "dsubm_predict"
   ]
  },
  {
   "cell_type": "code",
   "execution_count": null,
   "metadata": {
    "_uuid": "c4e186c1e76b8430cc4c5312149c63d723ccc6ff",
    "collapsed": true
   },
   "outputs": [],
   "source": []
  },
  {
   "cell_type": "code",
   "execution_count": null,
   "metadata": {
    "collapsed": true
   },
   "outputs": [],
   "source": []
  },
  {
   "cell_type": "code",
   "execution_count": null,
   "metadata": {
    "collapsed": true
   },
   "outputs": [],
   "source": []
  },
  {
   "cell_type": "code",
   "execution_count": null,
   "metadata": {
    "collapsed": true
   },
   "outputs": [],
   "source": []
  },
  {
   "cell_type": "code",
   "execution_count": null,
   "metadata": {
    "collapsed": true
   },
   "outputs": [],
   "source": []
  },
  {
   "cell_type": "code",
   "execution_count": null,
   "metadata": {
    "collapsed": true
   },
   "outputs": [],
   "source": []
  },
  {
   "cell_type": "code",
   "execution_count": null,
   "metadata": {
    "collapsed": true
   },
   "outputs": [],
   "source": []
  }
 ],
 "metadata": {
  "kernelspec": {
   "display_name": "Python 3",
   "language": "python",
   "name": "python3"
  },
  "language_info": {
   "codemirror_mode": {
    "name": "ipython",
    "version": 3
   },
   "file_extension": ".py",
   "mimetype": "text/x-python",
   "name": "python",
   "nbconvert_exporter": "python",
   "pygments_lexer": "ipython3",
   "version": "3.6.2"
  }
 },
 "nbformat": 4,
 "nbformat_minor": 1
}
