{
 "cells": [
  {
   "cell_type": "code",
   "execution_count": 1,
   "metadata": {
    "collapsed": true
   },
   "outputs": [],
   "source": [
    "import requests\n",
    "\n",
    "def send_line_notification(message):\n",
    "    line_token = \"9jBlZvpTEg7fQSKaevfKIGU1EQCAxl0SujL7i1pywuQ\"\n",
    "    endpoint = 'https://notify-api.line.me/api/notify'\n",
    "    message = \"\\n{}\".format(message)\n",
    "    payload = {'message': message}\n",
    "    headers = {'Authorization': 'Bearer {}'.format(line_token)}\n",
    "    requests.post(endpoint, data=payload, headers=headers)"
   ]
  },
  {
   "cell_type": "code",
   "execution_count": 32,
   "metadata": {},
   "outputs": [],
   "source": [
    "%matplotlib inline\n",
    "import numpy as np\n",
    "import pandas as pd\n",
    "import sklearn\n",
    "import os\n",
    "import os.path\n",
    "\n",
    "import matplotlib.pyplot as plt\n",
    "import csv\n",
    "import seaborn as sns\n",
    "from sklearn.preprocessing import StandardScaler\n",
    "\n",
    "from sklearn.linear_model import LogisticRegression\n",
    "from sklearn.neighbors import KNeighborsClassifier \n",
    "from sklearn.svm import SVC\n",
    "from sklearn.tree import DecisionTreeClassifier\n",
    "from sklearn.ensemble import RandomForestClassifier\n",
    "\n",
    "from sklearn import linear_model\n",
    "import pandas as pd\n",
    "from sklearn.pipeline import Pipeline\n",
    "from lightgbm import LGBMRegressor\n",
    "\n",
    "#classifier\n",
    "clf1 = LogisticRegression(penalty='l2',C=0.001,random_state=0)\n",
    "clf2 = KNeighborsClassifier(n_neighbors=1, p=2,metric='minkowski')\n",
    "clf3 = SVC(random_state=0)\n",
    "clf4 = DecisionTreeClassifier(max_depth=3,criterion='entropy',random_state=0)\n",
    "clf5 = RandomForestClassifier(random_state=0)\n",
    "clf6 = LGBMRegressor()\n",
    "clf7 = linear_model.LinearRegression()\n",
    "#パイプライン処理\n",
    "pipe1 = Pipeline([['sc', StandardScaler()], ['clf', clf1]])\n",
    "pipe2 = Pipeline([['sc', StandardScaler()], ['clf', clf2]])\n",
    "pipe3 = Pipeline([['sc', StandardScaler()], ['clf', clf3]])\n",
    "\n",
    "clf_labels = ['Logistic Regression','KNN','SVM','Decision Tree','Random Forest']"
   ]
  },
  {
   "cell_type": "code",
   "execution_count": 9,
   "metadata": {
    "scrolled": true
   },
   "outputs": [
    {
     "name": "stderr",
     "output_type": "stream",
     "text": [
      "/Users/takato/.pyenv/versions/anaconda3-5.0.0/lib/python3.6/site-packages/IPython/core/interactiveshell.py:2698: DtypeWarning: Columns (17,18,19,20,21,22,23,32,33,34,36,42,44) have mixed types. Specify dtype option on import or set low_memory=False.\n",
      "  interactivity=interactivity, compiler=compiler, result=result)\n"
     ]
    }
   ],
   "source": [
    "df_train = pd.read_csv(os.path.join(os.getcwd(),'train_set.csv'), delim_whitespace=False)\n",
    "df_test = pd.read_csv(os.path.join(os.getcwd(),'test_set.csv'), delim_whitespace=False)\n"
   ]
  },
  {
   "cell_type": "code",
   "execution_count": 35,
   "metadata": {},
   "outputs": [
    {
     "data": {
      "text/plain": [
       "(48874, 49)"
      ]
     },
     "execution_count": 35,
     "metadata": {},
     "output_type": "execute_result"
    }
   ],
   "source": [
    "df_train = df_train[df_train[\"PRICE\"]<10000000]\n",
    "\n",
    "\n",
    "df_train[\"GBA\"].fillna(df_train[\"GBA\"].mean(),inplace=True)\n",
    "df_train[\"GRADE\"].fillna(df_train[\"GRADE\"].mode(),inplace=True)\n",
    "df_train[\"CNDTN\"].fillna(df_train[\"CNDTN\"].mode(),inplace=True)\n",
    "\n",
    "df_train.shape"
   ]
  },
  {
   "cell_type": "code",
   "execution_count": 36,
   "metadata": {
    "collapsed": true
   },
   "outputs": [],
   "source": [
    "var = [\"GRADE\",\"CNDTN\",\"GBA\"]\n",
    "\n",
    "X = df_train[var]\n",
    "X=pd.get_dummies(X)"
   ]
  },
  {
   "cell_type": "code",
   "execution_count": 37,
   "metadata": {},
   "outputs": [
    {
     "data": {
      "text/plain": [
       "GBA                    0\n",
       "GRADE_Above Average    0\n",
       "GRADE_Average          0\n",
       "GRADE_Excellent        0\n",
       "GRADE_Exceptional-A    0\n",
       "GRADE_Exceptional-B    0\n",
       "GRADE_Exceptional-C    0\n",
       "GRADE_Exceptional-D    0\n",
       "GRADE_Fair Quality     0\n",
       "GRADE_Good Quality     0\n",
       "GRADE_Low Quality      0\n",
       "GRADE_Superior         0\n",
       "GRADE_Very Good        0\n",
       "CNDTN_Average          0\n",
       "CNDTN_Excellent        0\n",
       "CNDTN_Fair             0\n",
       "CNDTN_Good             0\n",
       "CNDTN_Poor             0\n",
       "CNDTN_Very Good        0\n",
       "dtype: int64"
      ]
     },
     "execution_count": 37,
     "metadata": {},
     "output_type": "execute_result"
    }
   ],
   "source": [
    "X.head()\n",
    "X.isnull().sum()"
   ]
  },
  {
   "cell_type": "code",
   "execution_count": 38,
   "metadata": {
    "collapsed": true
   },
   "outputs": [],
   "source": [
    "y = df_train[\"PRICE\"]"
   ]
  },
  {
   "cell_type": "markdown",
   "metadata": {
    "scrolled": true
   },
   "source": [
    "from sklearn.model_selection import cross_val_score\n",
    "from sklearn.metrics import  f1_score\n",
    "from sklearn.model_selection import cross_validate, StratifiedKFold\n",
    "\n",
    "\n",
    "#各classifierに対しk=5でcross validation\n",
    "for clf, label in zip([pipe1,pipe2,pipe3,clf4,clf5], clf_labels):\n",
    "    scores = cross_val_score(estimator=clf,\n",
    "                             X=X,\n",
    "                             y=y,\n",
    "                             cv=5,\n",
    "                             scoring='accuracy')\n",
    "    print(\"F1_score: %0.3f (+/- %0.2f) [%s]\"\n",
    "          % (scores.mean(), scores.std(), label))\n"
   ]
  },
  {
   "cell_type": "code",
   "execution_count": 39,
   "metadata": {},
   "outputs": [
    {
     "name": "stderr",
     "output_type": "stream",
     "text": [
      "/Users/takato/.pyenv/versions/anaconda3-5.0.0/lib/python3.6/site-packages/sklearn/ensemble/forest.py:246: FutureWarning: The default value of n_estimators will change from 10 in version 0.20 to 100 in 0.22.\n",
      "  \"10 in version 0.20 to 100 in 0.22.\", FutureWarning)\n"
     ]
    },
    {
     "data": {
      "text/plain": [
       "RandomForestClassifier(bootstrap=True, class_weight=None, criterion='gini',\n",
       "            max_depth=None, max_features='auto', max_leaf_nodes=None,\n",
       "            min_impurity_decrease=0.0, min_impurity_split=None,\n",
       "            min_samples_leaf=1, min_samples_split=2,\n",
       "            min_weight_fraction_leaf=0.0, n_estimators=10, n_jobs=None,\n",
       "            oob_score=False, random_state=0, verbose=0, warm_start=False)"
      ]
     },
     "execution_count": 39,
     "metadata": {},
     "output_type": "execute_result"
    }
   ],
   "source": [
    "model = clf5\n",
    "clf = model\n",
    "clf.fit(X,y)"
   ]
  },
  {
   "cell_type": "code",
   "execution_count": 40,
   "metadata": {
    "scrolled": false
   },
   "outputs": [
    {
     "data": {
      "text/plain": [
       "<matplotlib.collections.PathCollection at 0x125d8b5f8>"
      ]
     },
     "execution_count": 40,
     "metadata": {},
     "output_type": "execute_result"
    },
    {
     "data": {
      "image/png": "[encoded data removed]",
      "text/plain": [
       "<matplotlib.figure.Figure at 0x125301198>"
      ]
     },
     "metadata": {},
     "output_type": "display_data"
    }
   ],
   "source": [
    "plt.scatter(y,clf.predict(X))"
   ]
  },
  {
   "cell_type": "code",
   "execution_count": 41,
   "metadata": {
    "collapsed": true
   },
   "outputs": [],
   "source": [
    "df_test[\"GBA\"].fillna(df_test[\"GBA\"].mean(),inplace=True)\n",
    "df_test[\"GRADE\"].replace({'No Data': pd.np.nan},inplace=True)\n",
    "df_test[\"CNDTN\"].replace({'Default': pd.np.nan},inplace=True)\n"
   ]
  },
  {
   "cell_type": "code",
   "execution_count": 46,
   "metadata": {},
   "outputs": [
    {
     "data": {
      "text/plain": [
       "GBA                    0\n",
       "GRADE_Above Average    0\n",
       "GRADE_Average          0\n",
       "GRADE_Excellent        0\n",
       "GRADE_Exceptional-A    0\n",
       "GRADE_Exceptional-B    0\n",
       "GRADE_Exceptional-C    0\n",
       "GRADE_Exceptional-D    0\n",
       "GRADE_Fair Quality     0\n",
       "GRADE_Good Quality     0\n",
       "GRADE_Low Quality      0\n",
       "GRADE_Superior         0\n",
       "GRADE_Very Good        0\n",
       "CNDTN_Average          0\n",
       "CNDTN_Excellent        0\n",
       "CNDTN_Fair             0\n",
       "CNDTN_Good             0\n",
       "CNDTN_Poor             0\n",
       "CNDTN_Very Good        0\n",
       "dtype: int64"
      ]
     },
     "execution_count": 46,
     "metadata": {},
     "output_type": "execute_result"
    }
   ],
   "source": [
    "var = [\"GRADE\",\"CNDTN\",\"GBA\"]\n",
    "X = df_test[var]\n",
    "X=pd.get_dummies(X)\n",
    "X.isnull().sum()"
   ]
  },
  {
   "cell_type": "code",
   "execution_count": 47,
   "metadata": {},
   "outputs": [],
   "source": [
    "y_pred = clf.predict(X)"
   ]
  },
  {
   "cell_type": "code",
   "execution_count": null,
   "metadata": {
    "collapsed": true
   },
   "outputs": [],
   "source": []
  },
  {
   "cell_type": "code",
   "execution_count": 48,
   "metadata": {},
   "outputs": [],
   "source": [
    "pred_df = pd.DataFrame(y_pred, index=df_test.Id, columns=[\"PRICE\"])\n",
    "pred_df.to_csv('./output.csv', header=True, index_label='Id')"
   ]
  },
  {
   "cell_type": "code",
   "execution_count": 49,
   "metadata": {},
   "outputs": [
    {
     "data": {
      "text/plain": [
       "(49108,)"
      ]
     },
     "execution_count": 49,
     "metadata": {},
     "output_type": "execute_result"
    }
   ],
   "source": [
    "y_pred.shape"
   ]
  },
  {
   "cell_type": "code",
   "execution_count": null,
   "metadata": {},
   "outputs": [],
   "source": []
  },
  {
   "cell_type": "code",
   "execution_count": null,
   "metadata": {},
   "outputs": [],
   "source": []
  },
  {
   "cell_type": "code",
   "execution_count": null,
   "metadata": {},
   "outputs": [],
   "source": []
  },
  {
   "cell_type": "code",
   "execution_count": null,
   "metadata": {},
   "outputs": [],
   "source": []
  },
  {
   "cell_type": "code",
   "execution_count": null,
   "metadata": {},
   "outputs": [],
   "source": []
  },
  {
   "cell_type": "code",
   "execution_count": null,
   "metadata": {
    "collapsed": true
   },
   "outputs": [],
   "source": []
  }
 ],
 "metadata": {
  "kernelspec": {
   "display_name": "Python 3",
   "language": "python",
   "name": "python3"
  },
  "language_info": {
   "codemirror_mode": {
    "name": "ipython",
    "version": 3
   },
   "file_extension": ".py",
   "mimetype": "text/x-python",
   "name": "python",
   "nbconvert_exporter": "python",
   "pygments_lexer": "ipython3",
   "version": "3.6.2"
  }
 },
 "nbformat": 4,
 "nbformat_minor": 2
}
